{
 "cells": [
  {
   "cell_type": "code",
   "execution_count": 3,
   "id": "4e36447f-9697-40e4-bd5d-724846bc3346",
   "metadata": {},
   "outputs": [],
   "source": [
    "import numpy as np\n",
    "import pandas as pd\n",
    "# For visualization\n",
    "import matplotlib.pyplot as plt"
   ]
  },
  {
   "cell_type": "code",
   "execution_count": 4,
   "id": "c479db63-ef92-4e41-af84-1a869382aa62",
   "metadata": {},
   "outputs": [],
   "source": [
    "# Load and preprocess a dataset"
   ]
  },
  {
   "cell_type": "code",
   "execution_count": 11,
   "id": "dd682c6f-0ccb-452d-8689-a6624cb2992d",
   "metadata": {},
   "outputs": [],
   "source": [
    "# Sample dataset: Spam detection\n",
    "data = {\n",
    "    'word_free': [3, 1, 0, 5, 0, 2, 1, 4, 0, 1],\n",
    "    'word_lottery': [0, 1, 2, 0, 5, 1, 0, 2, 4, 3],\n",
    "    'word_discount': [1, 0, 3, 2, 1, 0, 2, 1, 5, 4],\n",
    "    'is_spam': [1, 0, 1, 1, 0, 0, 0, 1, 1, 1]  # 1 = spam, 0 = not spam\n",
    "}\n",
    "\n",
    "df = pd.DataFrame(data)\n",
    "# print(df)\n",
    "# Split dataset into X (features) and y (labels)\n",
    "X = df[['word_free', 'word_lottery', 'word_discount']].values  # Features (inputs)\n",
    "y = df['is_spam'].values.reshape(-1, 1)  # Labels (outputs), reshaped to column vector\n",
    "# print(df[['word_free', 'word_lottery', 'word_discount']])\n",
    "# print(X)\n",
    "# print(df['is_spam'])\n",
    "# print(df['is_spam'].values)\n",
    "# print(y)\n",
    "# Get number of samples and features\n",
    "m, n = X.shape  # m = number of samples, n = number of features\n",
    "# print(m,n)"
   ]
  },
  {
   "cell_type": "code",
   "execution_count": 13,
   "id": "602feaab-8350-4a47-a557-a54e05a94bff",
   "metadata": {},
   "outputs": [],
   "source": [
    "# Initialize Parameters"
   ]
  },
  {
   "cell_type": "code",
   "execution_count": 15,
   "id": "2c9a4a50-5507-4110-bb33-c8156deed2b8",
   "metadata": {},
   "outputs": [],
   "source": [
    "def initialize_parameters(n):\n",
    "    w = np.zeros((n, 1))  # Column vector of shape (n,1)\n",
    "    b = 0\n",
    "    return w, b\n",
    "\n",
    "# Initialize parameters themselves\n",
    "w, b = initialize_parameters(n)"
   ]
  },
  {
   "cell_type": "code",
   "execution_count": 16,
   "id": "5c4d166b-efff-4fd7-b118-eef5cfb52b53",
   "metadata": {},
   "outputs": [],
   "source": [
    "# Implement Sigmoid Function"
   ]
  },
  {
   "cell_type": "code",
   "execution_count": 17,
   "id": "3353082b-181e-4217-ac81-9dd7a00dc959",
   "metadata": {},
   "outputs": [],
   "source": [
    "def sigmoid(z):\n",
    "    return 1 / (1 + np.exp(-z))"
   ]
  },
  {
   "cell_type": "code",
   "execution_count": 18,
   "id": "6e6b4738-8b76-4a5c-bb45-0443fbf1bcea",
   "metadata": {},
   "outputs": [],
   "source": [
    "# Compute Cost Function (Log Loss)"
   ]
  },
  {
   "cell_type": "code",
   "execution_count": 19,
   "id": "5bb1eb4d-724c-4485-9bff-ffc96f20beb0",
   "metadata": {},
   "outputs": [],
   "source": [
    "def compute_cost(X, y, w, b):\n",
    "    m = X.shape[0]  # Number of training samples\n",
    "    z = np.dot(X, w) + b  # Linear function: z = Xw + b\n",
    "    y_hat = sigmoid(z)  # Apply sigmoid function\n",
    "    loss = - (y * np.log(y_hat) + (1 - y) * np.log(1 - y_hat))  # Binary cross-entropy\n",
    "    cost = np.sum(loss) / m  # Average cost\n",
    "    return cost"
   ]
  },
  {
   "cell_type": "code",
   "execution_count": 21,
   "id": "6403a0e0-87b0-4076-82c5-92b3fe4ceb9d",
   "metadata": {},
   "outputs": [],
   "source": [
    "def compute_cost(X, y, w, b):\n",
    "    m = X.shape[0]  # Number of training samples\n",
    "    z = np.dot(X, w) + b  # Linear function: z = Xw + b\n",
    "    y_hat = sigmoid(z)  # Apply sigmoid function\n",
    "    loss = - (y * np.log(y_hat) + (1 - y) * np.log(1 - y_hat))  # Binary cross-entropy\n",
    "    cost = np.sum(loss) / m  # Average cost\n",
    "    return cost"
   ]
  },
  {
   "cell_type": "code",
   "execution_count": 22,
   "id": "aceb2bbb-3325-483b-b71c-37f5d910894e",
   "metadata": {},
   "outputs": [],
   "source": [
    "# Compute Gradients for Gradient Descent"
   ]
  },
  {
   "cell_type": "code",
   "execution_count": 23,
   "id": "7870900f-2a2d-44b5-bdd8-6323cb9d616a",
   "metadata": {},
   "outputs": [],
   "source": [
    "def compute_gradients(X, y, w, b):\n",
    "    m = X.shape[0]  # Number of training samples\n",
    "    z = np.dot(X, w) + b\n",
    "    y_hat = sigmoid(z)\n",
    "    \n",
    "    dw = (1/m) * np.dot(X.T, (y_hat - y))  # Gradient of w\n",
    "    db = (1/m) * np.sum(y_hat - y)  # Gradient of b\n",
    "    \n",
    "    return dw, db"
   ]
  },
  {
   "cell_type": "code",
   "execution_count": 24,
   "id": "e1315e5a-7a3c-4a1a-8043-3772a38077fe",
   "metadata": {},
   "outputs": [],
   "source": [
    "# Train the Model Using Gradient Descent"
   ]
  },
  {
   "cell_type": "code",
   "execution_count": 25,
   "id": "4929d7db-8aa9-4152-84a4-3f810439803c",
   "metadata": {},
   "outputs": [
    {
     "name": "stdout",
     "output_type": "stream",
     "text": [
      "Iteration 0: Cost = 0.6931\n",
      "Iteration 100: Cost = 0.3784\n",
      "Iteration 200: Cost = 0.3244\n",
      "Iteration 300: Cost = 0.2873\n",
      "Iteration 400: Cost = 0.2602\n",
      "Iteration 500: Cost = 0.2398\n",
      "Iteration 600: Cost = 0.2238\n",
      "Iteration 700: Cost = 0.2109\n",
      "Iteration 800: Cost = 0.2003\n",
      "Iteration 900: Cost = 0.1913\n"
     ]
    }
   ],
   "source": [
    "def train(X, y, w, b, learning_rate=0.01, epochs=1000):\n",
    "    costs = []\n",
    "    \n",
    "    for i in range(epochs):\n",
    "        # Compute cost and gradients\n",
    "        cost = compute_cost(X, y, w, b)\n",
    "        dw, db = compute_gradients(X, y, w, b)\n",
    "        \n",
    "        # Update parameters\n",
    "        w -= learning_rate * dw\n",
    "        b -= learning_rate * db\n",
    "        \n",
    "        # Store cost for plotting\n",
    "        if i % 100 == 0:\n",
    "            costs.append(cost)\n",
    "            print(f\"Iteration {i}: Cost = {cost:.4f}\")\n",
    "\n",
    "    return w, b, costs\n",
    "\n",
    "# Train model\n",
    "w, b, costs = train(X, y, w, b, learning_rate=0.1, epochs=1000)\n"
   ]
  },
  {
   "cell_type": "code",
   "execution_count": 29,
   "id": "4af0e606-2c4f-4311-8120-cf07dba089d5",
   "metadata": {},
   "outputs": [],
   "source": [
    "# Make Predictions"
   ]
  },
  {
   "cell_type": "code",
   "execution_count": 30,
   "id": "2308af68-b4f6-467a-ba8e-62288fd108b3",
   "metadata": {},
   "outputs": [
    {
     "name": "stdout",
     "output_type": "stream",
     "text": [
      "Predictions: [1 0 1 1 0 0 1 1 1 1]\n",
      "Model Accuracy: 90.00%\n"
     ]
    }
   ],
   "source": [
    "def predict(X, w, b):\n",
    "    y_hat = sigmoid(np.dot(X, w) + b)  # Compute probability\n",
    "    return (y_hat >= 0.5).astype(int)  # Convert probability to 0 or 1\n",
    "\n",
    "# Test predictions\n",
    "y_pred = predict(X, w, b)\n",
    "print(\"Predictions:\", y_pred.flatten())\n",
    "\n",
    "# Calculate accuracy\n",
    "accuracy = np.mean(y_pred == y) * 100\n",
    "print(f\"Model Accuracy: {accuracy:.2f}%\")"
   ]
  },
  {
   "cell_type": "code",
   "execution_count": 31,
   "id": "bf4289cc-5980-4a01-8831-90a8e9ccf192",
   "metadata": {},
   "outputs": [],
   "source": [
    "# Plot the Cost Function Over Iterations"
   ]
  },
  {
   "cell_type": "code",
   "execution_count": 33,
   "id": "3019dd25-828d-4831-a7dd-b9a461b19b22",
   "metadata": {},
   "outputs": [
    {
     "data": {
      "image/png": "[encoded data removed]",
      "text/plain": [
       "<Figure size 640x480 with 1 Axes>"
      ]
     },
     "metadata": {},
     "output_type": "display_data"
    }
   ],
   "source": [
    "plt.plot(range(0, 1000, 100), costs, marker='o', linestyle='-')\n",
    "plt.xlabel(\"Iterations\")\n",
    "plt.ylabel(\"Cost\")\n",
    "plt.title(\"Cost Function Over Time\")\n",
    "plt.show()"
   ]
  },
  {
   "cell_type": "code",
   "execution_count": null,
   "id": "0ec9193f-b5de-4cf7-a941-bd4c60018977",
   "metadata": {},
   "outputs": [],
   "source": []
  }
 ],
 "metadata": {
  "kernelspec": {
   "display_name": "Python 3 (ipykernel)",
   "language": "python",
   "name": "python3"
  },
  "language_info": {
   "codemirror_mode": {
    "name": "ipython",
    "version": 3
   },
   "file_extension": ".py",
   "mimetype": "text/x-python",
   "name": "python",
   "nbconvert_exporter": "python",
   "pygments_lexer": "ipython3",
   "version": "3.13.1"
  }
 },
 "nbformat": 4,
 "nbformat_minor": 5
}
