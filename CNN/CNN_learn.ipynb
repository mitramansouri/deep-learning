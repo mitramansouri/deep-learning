{
  "nbformat": 4,
  "nbformat_minor": 0,
  "metadata": {
    "colab": {
      "provenance": [],
      "gpuType": "T4"
    },
    "kernelspec": {
      "name": "python3",
      "display_name": "Python 3"
    },
    "language_info": {
      "name": "python"
    },
    "accelerator": "GPU"
  },
  "cells": [
    {
      "cell_type": "code",
      "execution_count": 1,
      "metadata": {
        "id": "419T729NWzc5"
      },
      "outputs": [],
      "source": [
        "# Step 1: Install and import libraries\n",
        "import tensorflow as tf\n",
        "from tensorflow.keras import layers, models\n",
        "import matplotlib.pyplot as plt"
      ]
    },
    {
      "cell_type": "code",
      "source": [
        "# Step 2: Load MNIST dataset\n",
        "(x_train, y_train), (x_test, y_test) = tf.keras.datasets.mnist.load_data() #Each image is 28×28 pixels, grayscale."
      ],
      "metadata": {
        "colab": {
          "base_uri": "https://localhost:8080/"
        },
        "id": "wI6vR0wsW7NT",
        "outputId": "45b74d0b-b3a2-4215-a3e5-d235a2905ab6"
      },
      "execution_count": 2,
      "outputs": [
        {
          "output_type": "stream",
          "name": "stdout",
          "text": [
            "Downloading data from https://storage.googleapis.com/tensorflow/tf-keras-datasets/mnist.npz\n",
            "\u001b[1m11490434/11490434\u001b[0m \u001b[32m━━━━━━━━━━━━━━━━━━━━\u001b[0m\u001b[37m\u001b[0m \u001b[1m0s\u001b[0m 0us/step\n"
          ]
        }
      ]
    },
    {
      "cell_type": "markdown",
      "source": [
        "* **Normalization**: Divides pixel values by 255 so they’re in [0, 1] — helps\n",
        "training.\n",
        "* **Reshape**: Adds a \"channel\" dimension (since images are grayscale, it’s just 1).\n",
        "* Final shape = (number, height, width, channels) → e.g. (60000, 28, 28, 1)"
      ],
      "metadata": {
        "id": "elyKRbMBX1SZ"
      }
    },
    {
      "cell_type": "code",
      "source": [
        "# Step 3: Normalize and reshape data\n",
        "x_train = x_train / 255.0\n",
        "x_test = x_test / 255.0"
      ],
      "metadata": {
        "id": "bNggh0SBW-YA"
      },
      "execution_count": 3,
      "outputs": []
    },
    {
      "cell_type": "code",
      "source": [
        "# Add channel dimension (grayscale = 1)\n",
        "x_train = x_train.reshape(-1, 28, 28, 1)\n",
        "x_test = x_test.reshape(-1, 28, 28, 1)"
      ],
      "metadata": {
        "id": "OtSGul2GXATM"
      },
      "execution_count": 4,
      "outputs": []
    },
    {
      "cell_type": "markdown",
      "source": [
        "* Conv2D(32, (3,3)): layer one\n",
        "\n",
        "  * 32 filters of size 3×3 scanning over the image.\n",
        "\n",
        "  * Learns edges and patterns.\n",
        "\n",
        "* MaxPooling2D(2,2)\n",
        "\n",
        "  * Shrinks the feature map by taking max values from 2×2 regions.\n",
        "\n",
        "* Another Conv2D + MaxPooling\n",
        "\n",
        "  * Goes deeper: learns more abstract patterns (curves, digits).\n",
        "\n",
        "* Flatten()\n",
        "\n",
        "  * Turns 2D feature maps into a 1D vector. because the next layer nees 1D array.\n",
        "\n",
        "* Dense(64)\n",
        "\n",
        "  * Fully connected layer with 64 neurons.\n",
        "\n",
        "* Dense(10)\n",
        "\n",
        "  * Output layer with 10 neurons (digits 0–9).\n",
        "\n",
        "* Uses softmax to give probabilities."
      ],
      "metadata": {
        "id": "OJYjemAvYHcM"
      }
    },
    {
      "cell_type": "code",
      "source": [
        "# Step 4: Build a simple CNN\n",
        "model = models.Sequential([\n",
        "    layers.Conv2D(32, (3, 3), activation='relu', input_shape=(28, 28, 1)),\n",
        "    layers.MaxPooling2D((2, 2)),\n",
        "\n",
        "    layers.Conv2D(64, (3, 3), activation='relu'),\n",
        "    layers.MaxPooling2D((2, 2)),\n",
        "\n",
        "    layers.Flatten(),\n",
        "    layers.Dense(64, activation='relu'),\n",
        "    layers.Dense(10, activation='softmax')  # 10 classes (digits 0–9)\n",
        "])"
      ],
      "metadata": {
        "colab": {
          "base_uri": "https://localhost:8080/"
        },
        "id": "hFB5VHiOXCY3",
        "outputId": "00cb4e06-b7fd-4512-cc74-72c07977394a"
      },
      "execution_count": 5,
      "outputs": [
        {
          "output_type": "stream",
          "name": "stderr",
          "text": [
            "/usr/local/lib/python3.11/dist-packages/keras/src/layers/convolutional/base_conv.py:107: UserWarning: Do not pass an `input_shape`/`input_dim` argument to a layer. When using Sequential models, prefer using an `Input(shape)` object as the first layer in the model instead.\n",
            "  super().__init__(activity_regularizer=activity_regularizer, **kwargs)\n"
          ]
        }
      ]
    },
    {
      "cell_type": "markdown",
      "source": [
        "* Adam: A smart optimizer that adjusts learning rate.\n",
        "\n",
        "* Loss function: Tells the model how wrong it is.\n",
        "\n",
        "* Accuracy: We track how often predictions are correct."
      ],
      "metadata": {
        "id": "YS2mXJohZRtl"
      }
    },
    {
      "cell_type": "code",
      "source": [
        "# Step 5: Compile the model\n",
        "model.compile(optimizer='adam',\n",
        "              loss='sparse_categorical_crossentropy',\n",
        "              metrics=['accuracy'])\n"
      ],
      "metadata": {
        "id": "-AGbDk47XHf9"
      },
      "execution_count": 6,
      "outputs": []
    },
    {
      "cell_type": "code",
      "source": [
        "# Step 6: Train the model\n",
        "history = model.fit(x_train, y_train, epochs=5, validation_split=0.1)"
      ],
      "metadata": {
        "colab": {
          "base_uri": "https://localhost:8080/"
        },
        "id": "Y0xM3gOQXKCl",
        "outputId": "18104d27-4691-444a-b414-5931d498817b"
      },
      "execution_count": 7,
      "outputs": [
        {
          "output_type": "stream",
          "name": "stdout",
          "text": [
            "Epoch 1/5\n",
            "\u001b[1m1688/1688\u001b[0m \u001b[32m━━━━━━━━━━━━━━━━━━━━\u001b[0m\u001b[37m\u001b[0m \u001b[1m12s\u001b[0m 5ms/step - accuracy: 0.8893 - loss: 0.3653 - val_accuracy: 0.9875 - val_loss: 0.0469\n",
            "Epoch 2/5\n",
            "\u001b[1m1688/1688\u001b[0m \u001b[32m━━━━━━━━━━━━━━━━━━━━\u001b[0m\u001b[37m\u001b[0m \u001b[1m15s\u001b[0m 3ms/step - accuracy: 0.9837 - loss: 0.0501 - val_accuracy: 0.9887 - val_loss: 0.0436\n",
            "Epoch 3/5\n",
            "\u001b[1m1688/1688\u001b[0m \u001b[32m━━━━━━━━━━━━━━━━━━━━\u001b[0m\u001b[37m\u001b[0m \u001b[1m10s\u001b[0m 3ms/step - accuracy: 0.9891 - loss: 0.0349 - val_accuracy: 0.9897 - val_loss: 0.0359\n",
            "Epoch 4/5\n",
            "\u001b[1m1688/1688\u001b[0m \u001b[32m━━━━━━━━━━━━━━━━━━━━\u001b[0m\u001b[37m\u001b[0m \u001b[1m6s\u001b[0m 3ms/step - accuracy: 0.9929 - loss: 0.0232 - val_accuracy: 0.9915 - val_loss: 0.0334\n",
            "Epoch 5/5\n",
            "\u001b[1m1688/1688\u001b[0m \u001b[32m━━━━━━━━━━━━━━━━━━━━\u001b[0m\u001b[37m\u001b[0m \u001b[1m5s\u001b[0m 3ms/step - accuracy: 0.9943 - loss: 0.0178 - val_accuracy: 0.9907 - val_loss: 0.0344\n"
          ]
        }
      ]
    },
    {
      "cell_type": "code",
      "source": [
        "# Step 7: Evaluate on test data\n",
        "test_loss, test_acc = model.evaluate(x_test, y_test)\n",
        "print(f\"\\nTest accuracy: {test_acc:.4f}\")"
      ],
      "metadata": {
        "colab": {
          "base_uri": "https://localhost:8080/"
        },
        "id": "q4B90_hbXMIV",
        "outputId": "b8ac6d1d-a05d-440d-d856-c96ea0840797"
      },
      "execution_count": 8,
      "outputs": [
        {
          "output_type": "stream",
          "name": "stdout",
          "text": [
            "\u001b[1m313/313\u001b[0m \u001b[32m━━━━━━━━━━━━━━━━━━━━\u001b[0m\u001b[37m\u001b[0m \u001b[1m1s\u001b[0m 2ms/step - accuracy: 0.9883 - loss: 0.0343\n",
            "\n",
            "Test accuracy: 0.9907\n"
          ]
        }
      ]
    },
    {
      "cell_type": "code",
      "source": [
        "# Step 8 (Optional): Plot training curve\n",
        "plt.plot(history.history['accuracy'], label='Train Acc')\n",
        "plt.plot(history.history['val_accuracy'], label='Val Acc')\n",
        "plt.xlabel('Epoch')\n",
        "plt.ylabel('Accuracy')\n",
        "plt.legend()\n",
        "plt.grid(True)\n",
        "plt.show()"
      ],
      "metadata": {
        "colab": {
          "base_uri": "https://localhost:8080/",
          "height": 449
        },
        "id": "x2I_ahDzXdHP",
        "outputId": "b8f85508-3461-4aab-d8a7-bdb258732ba4"
      },
      "execution_count": 9,
      "outputs": [
        {
          "output_type": "display_data",
          "data": {
            "text/plain": [
              "<Figure size 640x480 with 1 Axes>"
            ],
            "image/png": "[encoded data removed]"
          },
          "metadata": {}
        }
      ]
    },
    {
      "cell_type": "code",
      "source": [],
      "metadata": {
        "id": "e6iYE64VXeKY"
      },
      "execution_count": null,
      "outputs": []
    }
  ]
}