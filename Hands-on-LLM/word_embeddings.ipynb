{
  "nbformat": 4,
  "nbformat_minor": 0,
  "metadata": {
    "colab": {
      "provenance": [],
      "gpuType": "T4"
    },
    "kernelspec": {
      "name": "python3",
      "display_name": "Python 3"
    },
    "language_info": {
      "name": "python"
    },
    "accelerator": "GPU",
    "widgets": {
      "application/vnd.jupyter.widget-state+json": {
        "6559e76be6b64d669eed2e93909c93e0": {
          "model_module": "@jupyter-widgets/controls",
          "model_name": "HBoxModel",
          "model_module_version": "1.5.0",
          "state": {
            "_dom_classes": [],
            "_model_module": "@jupyter-widgets/controls",
            "_model_module_version": "1.5.0",
            "_model_name": "HBoxModel",
            "_view_count": null,
            "_view_module": "@jupyter-widgets/controls",
            "_view_module_version": "1.5.0",
            "_view_name": "HBoxView",
            "box_style": "",
            "children": [
              "IPY_MODEL_6a394de5cc714f009f76905f30e6f5f5",
              "IPY_MODEL_33d8fbdefa5e4ffe913289776f7e6429",
              "IPY_MODEL_d0b3d41f0ce942b09c75b21a1b4ee466"
            ],
            "layout": "IPY_MODEL_ea6992844c4043849506698d40c03c3a"
          }
        },
        "6a394de5cc714f009f76905f30e6f5f5": {
          "model_module": "@jupyter-widgets/controls",
          "model_name": "HTMLModel",
          "model_module_version": "1.5.0",
          "state": {
            "_dom_classes": [],
            "_model_module": "@jupyter-widgets/controls",
            "_model_module_version": "1.5.0",
            "_model_name": "HTMLModel",
            "_view_count": null,
            "_view_module": "@jupyter-widgets/controls",
            "_view_module_version": "1.5.0",
            "_view_name": "HTMLView",
            "description": "",
            "description_tooltip": null,
            "layout": "IPY_MODEL_d990611ba8ef439689688f8b7cdc68af",
            "placeholder": "​",
            "style": "IPY_MODEL_001fbde8e1464e039a48490ee07b1d9d",
            "value": "tokenizer_config.json: 100%"
          }
        },
        "33d8fbdefa5e4ffe913289776f7e6429": {
          "model_module": "@jupyter-widgets/controls",
          "model_name": "FloatProgressModel",
          "model_module_version": "1.5.0",
          "state": {
            "_dom_classes": [],
            "_model_module": "@jupyter-widgets/controls",
            "_model_module_version": "1.5.0",
            "_model_name": "FloatProgressModel",
            "_view_count": null,
            "_view_module": "@jupyter-widgets/controls",
            "_view_module_version": "1.5.0",
            "_view_name": "ProgressView",
            "bar_style": "success",
            "description": "",
            "description_tooltip": null,
            "layout": "IPY_MODEL_78a6679b1e08450797591cefe7b2e6c2",
            "max": 48,
            "min": 0,
            "orientation": "horizontal",
            "style": "IPY_MODEL_f6a5e8cc6b0b448c8f4b5f1c9f5450bb",
            "value": 48
          }
        },
        "d0b3d41f0ce942b09c75b21a1b4ee466": {
          "model_module": "@jupyter-widgets/controls",
          "model_name": "HTMLModel",
          "model_module_version": "1.5.0",
          "state": {
            "_dom_classes": [],
            "_model_module": "@jupyter-widgets/controls",
            "_model_module_version": "1.5.0",
            "_model_name": "HTMLModel",
            "_view_count": null,
            "_view_module": "@jupyter-widgets/controls",
            "_view_module_version": "1.5.0",
            "_view_name": "HTMLView",
            "description": "",
            "description_tooltip": null,
            "layout": "IPY_MODEL_28a2b78ab59340289146edc6ad28b866",
            "placeholder": "​",
            "style": "IPY_MODEL_eb44d024f7e44c05981b7b5be4532369",
            "value": " 48.0/48.0 [00:00&lt;00:00, 1.71kB/s]"
          }
        },
        "ea6992844c4043849506698d40c03c3a": {
          "model_module": "@jupyter-widgets/base",
          "model_name": "LayoutModel",
          "model_module_version": "1.2.0",
          "state": {
            "_model_module": "@jupyter-widgets/base",
            "_model_module_version": "1.2.0",
            "_model_name": "LayoutModel",
            "_view_count": null,
            "_view_module": "@jupyter-widgets/base",
            "_view_module_version": "1.2.0",
            "_view_name": "LayoutView",
            "align_content": null,
            "align_items": null,
            "align_self": null,
            "border": null,
            "bottom": null,
            "display": null,
            "flex": null,
            "flex_flow": null,
            "grid_area": null,
            "grid_auto_columns": null,
            "grid_auto_flow": null,
            "grid_auto_rows": null,
            "grid_column": null,
            "grid_gap": null,
            "grid_row": null,
            "grid_template_areas": null,
            "grid_template_columns": null,
            "grid_template_rows": null,
            "height": null,
            "justify_content": null,
            "justify_items": null,
            "left": null,
            "margin": null,
            "max_height": null,
            "max_width": null,
            "min_height": null,
            "min_width": null,
            "object_fit": null,
            "object_position": null,
            "order": null,
            "overflow": null,
            "overflow_x": null,
            "overflow_y": null,
            "padding": null,
            "right": null,
            "top": null,
            "visibility": null,
            "width": null
          }
        },
        "d990611ba8ef439689688f8b7cdc68af": {
          "model_module": "@jupyter-widgets/base",
          "model_name": "LayoutModel",
          "model_module_version": "1.2.0",
          "state": {
            "_model_module": "@jupyter-widgets/base",
            "_model_module_version": "1.2.0",
            "_model_name": "LayoutModel",
            "_view_count": null,
            "_view_module": "@jupyter-widgets/base",
            "_view_module_version": "1.2.0",
            "_view_name": "LayoutView",
            "align_content": null,
            "align_items": null,
            "align_self": null,
            "border": null,
            "bottom": null,
            "display": null,
            "flex": null,
            "flex_flow": null,
            "grid_area": null,
            "grid_auto_columns": null,
            "grid_auto_flow": null,
            "grid_auto_rows": null,
            "grid_column": null,
            "grid_gap": null,
            "grid_row": null,
            "grid_template_areas": null,
            "grid_template_columns": null,
            "grid_template_rows": null,
            "height": null,
            "justify_content": null,
            "justify_items": null,
            "left": null,
            "margin": null,
            "max_height": null,
            "max_width": null,
            "min_height": null,
            "min_width": null,
            "object_fit": null,
            "object_position": null,
            "order": null,
            "overflow": null,
            "overflow_x": null,
            "overflow_y": null,
            "padding": null,
            "right": null,
            "top": null,
            "visibility": null,
            "width": null
          }
        },
        "001fbde8e1464e039a48490ee07b1d9d": {
          "model_module": "@jupyter-widgets/controls",
          "model_name": "DescriptionStyleModel",
          "model_module_version": "1.5.0",
          "state": {
            "_model_module": "@jupyter-widgets/controls",
            "_model_module_version": "1.5.0",
            "_model_name": "DescriptionStyleModel",
            "_view_count": null,
            "_view_module": "@jupyter-widgets/base",
            "_view_module_version": "1.2.0",
            "_view_name": "StyleView",
            "description_width": ""
          }
        },
        "78a6679b1e08450797591cefe7b2e6c2": {
          "model_module": "@jupyter-widgets/base",
          "model_name": "LayoutModel",
          "model_module_version": "1.2.0",
          "state": {
            "_model_module": "@jupyter-widgets/base",
            "_model_module_version": "1.2.0",
            "_model_name": "LayoutModel",
            "_view_count": null,
            "_view_module": "@jupyter-widgets/base",
            "_view_module_version": "1.2.0",
            "_view_name": "LayoutView",
            "align_content": null,
            "align_items": null,
            "align_self": null,
            "border": null,
            "bottom": null,
            "display": null,
            "flex": null,
            "flex_flow": null,
            "grid_area": null,
            "grid_auto_columns": null,
            "grid_auto_flow": null,
            "grid_auto_rows": null,
            "grid_column": null,
            "grid_gap": null,
            "grid_row": null,
            "grid_template_areas": null,
            "grid_template_columns": null,
            "grid_template_rows": null,
            "height": null,
            "justify_content": null,
            "justify_items": null,
            "left": null,
            "margin": null,
            "max_height": null,
            "max_width": null,
            "min_height": null,
            "min_width": null,
            "object_fit": null,
            "object_position": null,
            "order": null,
            "overflow": null,
            "overflow_x": null,
            "overflow_y": null,
            "padding": null,
            "right": null,
            "top": null,
            "visibility": null,
            "width": null
          }
        },
        "f6a5e8cc6b0b448c8f4b5f1c9f5450bb": {
          "model_module": "@jupyter-widgets/controls",
          "model_name": "ProgressStyleModel",
          "model_module_version": "1.5.0",
          "state": {
            "_model_module": "@jupyter-widgets/controls",
            "_model_module_version": "1.5.0",
            "_model_name": "ProgressStyleModel",
            "_view_count": null,
            "_view_module": "@jupyter-widgets/base",
            "_view_module_version": "1.2.0",
            "_view_name": "StyleView",
            "bar_color": null,
            "description_width": ""
          }
        },
        "28a2b78ab59340289146edc6ad28b866": {
          "model_module": "@jupyter-widgets/base",
          "model_name": "LayoutModel",
          "model_module_version": "1.2.0",
          "state": {
            "_model_module": "@jupyter-widgets/base",
            "_model_module_version": "1.2.0",
            "_model_name": "LayoutModel",
            "_view_count": null,
            "_view_module": "@jupyter-widgets/base",
            "_view_module_version": "1.2.0",
            "_view_name": "LayoutView",
            "align_content": null,
            "align_items": null,
            "align_self": null,
            "border": null,
            "bottom": null,
            "display": null,
            "flex": null,
            "flex_flow": null,
            "grid_area": null,
            "grid_auto_columns": null,
            "grid_auto_flow": null,
            "grid_auto_rows": null,
            "grid_column": null,
            "grid_gap": null,
            "grid_row": null,
            "grid_template_areas": null,
            "grid_template_columns": null,
            "grid_template_rows": null,
            "height": null,
            "justify_content": null,
            "justify_items": null,
            "left": null,
            "margin": null,
            "max_height": null,
            "max_width": null,
            "min_height": null,
            "min_width": null,
            "object_fit": null,
            "object_position": null,
            "order": null,
            "overflow": null,
            "overflow_x": null,
            "overflow_y": null,
            "padding": null,
            "right": null,
            "top": null,
            "visibility": null,
            "width": null
          }
        },
        "eb44d024f7e44c05981b7b5be4532369": {
          "model_module": "@jupyter-widgets/controls",
          "model_name": "DescriptionStyleModel",
          "model_module_version": "1.5.0",
          "state": {
            "_model_module": "@jupyter-widgets/controls",
            "_model_module_version": "1.5.0",
            "_model_name": "DescriptionStyleModel",
            "_view_count": null,
            "_view_module": "@jupyter-widgets/base",
            "_view_module_version": "1.2.0",
            "_view_name": "StyleView",
            "description_width": ""
          }
        },
        "a1bcca685dc64c8fa146d7f1e4a664b3": {
          "model_module": "@jupyter-widgets/controls",
          "model_name": "HBoxModel",
          "model_module_version": "1.5.0",
          "state": {
            "_dom_classes": [],
            "_model_module": "@jupyter-widgets/controls",
            "_model_module_version": "1.5.0",
            "_model_name": "HBoxModel",
            "_view_count": null,
            "_view_module": "@jupyter-widgets/controls",
            "_view_module_version": "1.5.0",
            "_view_name": "HBoxView",
            "box_style": "",
            "children": [
              "IPY_MODEL_e38a6856db7540aea15984aa2e25cd49",
              "IPY_MODEL_41e0421b03794ffc8a0ec8dfc9f6a04d",
              "IPY_MODEL_0815e36a788544d9a9230e78a310ca45"
            ],
            "layout": "IPY_MODEL_c83587e5901c4680a0ffaaa3df8213b7"
          }
        },
        "e38a6856db7540aea15984aa2e25cd49": {
          "model_module": "@jupyter-widgets/controls",
          "model_name": "HTMLModel",
          "model_module_version": "1.5.0",
          "state": {
            "_dom_classes": [],
            "_model_module": "@jupyter-widgets/controls",
            "_model_module_version": "1.5.0",
            "_model_name": "HTMLModel",
            "_view_count": null,
            "_view_module": "@jupyter-widgets/controls",
            "_view_module_version": "1.5.0",
            "_view_name": "HTMLView",
            "description": "",
            "description_tooltip": null,
            "layout": "IPY_MODEL_d0051bbfa36846b3b6ff0af070d10b8a",
            "placeholder": "​",
            "style": "IPY_MODEL_455b882fbe844ded891700e49ae5d51e",
            "value": "config.json: 100%"
          }
        },
        "41e0421b03794ffc8a0ec8dfc9f6a04d": {
          "model_module": "@jupyter-widgets/controls",
          "model_name": "FloatProgressModel",
          "model_module_version": "1.5.0",
          "state": {
            "_dom_classes": [],
            "_model_module": "@jupyter-widgets/controls",
            "_model_module_version": "1.5.0",
            "_model_name": "FloatProgressModel",
            "_view_count": null,
            "_view_module": "@jupyter-widgets/controls",
            "_view_module_version": "1.5.0",
            "_view_name": "ProgressView",
            "bar_style": "success",
            "description": "",
            "description_tooltip": null,
            "layout": "IPY_MODEL_4a84508d440442319290aeac2e7071fa",
            "max": 570,
            "min": 0,
            "orientation": "horizontal",
            "style": "IPY_MODEL_0fdf16a69e86439fb1cf47be7946bfa5",
            "value": 570
          }
        },
        "0815e36a788544d9a9230e78a310ca45": {
          "model_module": "@jupyter-widgets/controls",
          "model_name": "HTMLModel",
          "model_module_version": "1.5.0",
          "state": {
            "_dom_classes": [],
            "_model_module": "@jupyter-widgets/controls",
            "_model_module_version": "1.5.0",
            "_model_name": "HTMLModel",
            "_view_count": null,
            "_view_module": "@jupyter-widgets/controls",
            "_view_module_version": "1.5.0",
            "_view_name": "HTMLView",
            "description": "",
            "description_tooltip": null,
            "layout": "IPY_MODEL_7f220e3d1a7c4bb8b19d34ed0f4925d6",
            "placeholder": "​",
            "style": "IPY_MODEL_760b779a28d64c1fb9e7ee9ca12d1594",
            "value": " 570/570 [00:00&lt;00:00, 11.5kB/s]"
          }
        },
        "c83587e5901c4680a0ffaaa3df8213b7": {
          "model_module": "@jupyter-widgets/base",
          "model_name": "LayoutModel",
          "model_module_version": "1.2.0",
          "state": {
            "_model_module": "@jupyter-widgets/base",
            "_model_module_version": "1.2.0",
            "_model_name": "LayoutModel",
            "_view_count": null,
            "_view_module": "@jupyter-widgets/base",
            "_view_module_version": "1.2.0",
            "_view_name": "LayoutView",
            "align_content": null,
            "align_items": null,
            "align_self": null,
            "border": null,
            "bottom": null,
            "display": null,
            "flex": null,
            "flex_flow": null,
            "grid_area": null,
            "grid_auto_columns": null,
            "grid_auto_flow": null,
            "grid_auto_rows": null,
            "grid_column": null,
            "grid_gap": null,
            "grid_row": null,
            "grid_template_areas": null,
            "grid_template_columns": null,
            "grid_template_rows": null,
            "height": null,
            "justify_content": null,
            "justify_items": null,
            "left": null,
            "margin": null,
            "max_height": null,
            "max_width": null,
            "min_height": null,
            "min_width": null,
            "object_fit": null,
            "object_position": null,
            "order": null,
            "overflow": null,
            "overflow_x": null,
            "overflow_y": null,
            "padding": null,
            "right": null,
            "top": null,
            "visibility": null,
            "width": null
          }
        },
        "d0051bbfa36846b3b6ff0af070d10b8a": {
          "model_module": "@jupyter-widgets/base",
          "model_name": "LayoutModel",
          "model_module_version": "1.2.0",
          "state": {
            "_model_module": "@jupyter-widgets/base",
            "_model_module_version": "1.2.0",
            "_model_name": "LayoutModel",
            "_view_count": null,
            "_view_module": "@jupyter-widgets/base",
            "_view_module_version": "1.2.0",
            "_view_name": "LayoutView",
            "align_content": null,
            "align_items": null,
            "align_self": null,
            "border": null,
            "bottom": null,
            "display": null,
            "flex": null,
            "flex_flow": null,
            "grid_area": null,
            "grid_auto_columns": null,
            "grid_auto_flow": null,
            "grid_auto_rows": null,
            "grid_column": null,
            "grid_gap": null,
            "grid_row": null,
            "grid_template_areas": null,
            "grid_template_columns": null,
            "grid_template_rows": null,
            "height": null,
            "justify_content": null,
            "justify_items": null,
            "left": null,
            "margin": null,
            "max_height": null,
            "max_width": null,
            "min_height": null,
            "min_width": null,
            "object_fit": null,
            "object_position": null,
            "order": null,
            "overflow": null,
            "overflow_x": null,
            "overflow_y": null,
            "padding": null,
            "right": null,
            "top": null,
            "visibility": null,
            "width": null
          }
        },
        "455b882fbe844ded891700e49ae5d51e": {
          "model_module": "@jupyter-widgets/controls",
          "model_name": "DescriptionStyleModel",
          "model_module_version": "1.5.0",
          "state": {
            "_model_module": "@jupyter-widgets/controls",
            "_model_module_version": "1.5.0",
            "_model_name": "DescriptionStyleModel",
            "_view_count": null,
            "_view_module": "@jupyter-widgets/base",
            "_view_module_version": "1.2.0",
            "_view_name": "StyleView",
            "description_width": ""
          }
        },
        "4a84508d440442319290aeac2e7071fa": {
          "model_module": "@jupyter-widgets/base",
          "model_name": "LayoutModel",
          "model_module_version": "1.2.0",
          "state": {
            "_model_module": "@jupyter-widgets/base",
            "_model_module_version": "1.2.0",
            "_model_name": "LayoutModel",
            "_view_count": null,
            "_view_module": "@jupyter-widgets/base",
            "_view_module_version": "1.2.0",
            "_view_name": "LayoutView",
            "align_content": null,
            "align_items": null,
            "align_self": null,
            "border": null,
            "bottom": null,
            "display": null,
            "flex": null,
            "flex_flow": null,
            "grid_area": null,
            "grid_auto_columns": null,
            "grid_auto_flow": null,
            "grid_auto_rows": null,
            "grid_column": null,
            "grid_gap": null,
            "grid_row": null,
            "grid_template_areas": null,
            "grid_template_columns": null,
            "grid_template_rows": null,
            "height": null,
            "justify_content": null,
            "justify_items": null,
            "left": null,
            "margin": null,
            "max_height": null,
            "max_width": null,
            "min_height": null,
            "min_width": null,
            "object_fit": null,
            "object_position": null,
            "order": null,
            "overflow": null,
            "overflow_x": null,
            "overflow_y": null,
            "padding": null,
            "right": null,
            "top": null,
            "visibility": null,
            "width": null
          }
        },
        "0fdf16a69e86439fb1cf47be7946bfa5": {
          "model_module": "@jupyter-widgets/controls",
          "model_name": "ProgressStyleModel",
          "model_module_version": "1.5.0",
          "state": {
            "_model_module": "@jupyter-widgets/controls",
            "_model_module_version": "1.5.0",
            "_model_name": "ProgressStyleModel",
            "_view_count": null,
            "_view_module": "@jupyter-widgets/base",
            "_view_module_version": "1.2.0",
            "_view_name": "StyleView",
            "bar_color": null,
            "description_width": ""
          }
        },
        "7f220e3d1a7c4bb8b19d34ed0f4925d6": {
          "model_module": "@jupyter-widgets/base",
          "model_name": "LayoutModel",
          "model_module_version": "1.2.0",
          "state": {
            "_model_module": "@jupyter-widgets/base",
            "_model_module_version": "1.2.0",
            "_model_name": "LayoutModel",
            "_view_count": null,
            "_view_module": "@jupyter-widgets/base",
            "_view_module_version": "1.2.0",
            "_view_name": "LayoutView",
            "align_content": null,
            "align_items": null,
            "align_self": null,
            "border": null,
            "bottom": null,
            "display": null,
            "flex": null,
            "flex_flow": null,
            "grid_area": null,
            "grid_auto_columns": null,
            "grid_auto_flow": null,
            "grid_auto_rows": null,
            "grid_column": null,
            "grid_gap": null,
            "grid_row": null,
            "grid_template_areas": null,
            "grid_template_columns": null,
            "grid_template_rows": null,
            "height": null,
            "justify_content": null,
            "justify_items": null,
            "left": null,
            "margin": null,
            "max_height": null,
            "max_width": null,
            "min_height": null,
            "min_width": null,
            "object_fit": null,
            "object_position": null,
            "order": null,
            "overflow": null,
            "overflow_x": null,
            "overflow_y": null,
            "padding": null,
            "right": null,
            "top": null,
            "visibility": null,
            "width": null
          }
        },
        "760b779a28d64c1fb9e7ee9ca12d1594": {
          "model_module": "@jupyter-widgets/controls",
          "model_name": "DescriptionStyleModel",
          "model_module_version": "1.5.0",
          "state": {
            "_model_module": "@jupyter-widgets/controls",
            "_model_module_version": "1.5.0",
            "_model_name": "DescriptionStyleModel",
            "_view_count": null,
            "_view_module": "@jupyter-widgets/base",
            "_view_module_version": "1.2.0",
            "_view_name": "StyleView",
            "description_width": ""
          }
        },
        "eb1cb60c57054f238967d066e694e183": {
          "model_module": "@jupyter-widgets/controls",
          "model_name": "HBoxModel",
          "model_module_version": "1.5.0",
          "state": {
            "_dom_classes": [],
            "_model_module": "@jupyter-widgets/controls",
            "_model_module_version": "1.5.0",
            "_model_name": "HBoxModel",
            "_view_count": null,
            "_view_module": "@jupyter-widgets/controls",
            "_view_module_version": "1.5.0",
            "_view_name": "HBoxView",
            "box_style": "",
            "children": [
              "IPY_MODEL_49dd6bc30ed84a7cb037a90877ce2290",
              "IPY_MODEL_5bab16b7678b456591e38622e2017503",
              "IPY_MODEL_000f1ec064c24457a5269fbfb31a37f5"
            ],
            "layout": "IPY_MODEL_1bd2ef3bdd1d47118f1baff41dac6fcd"
          }
        },
        "49dd6bc30ed84a7cb037a90877ce2290": {
          "model_module": "@jupyter-widgets/controls",
          "model_name": "HTMLModel",
          "model_module_version": "1.5.0",
          "state": {
            "_dom_classes": [],
            "_model_module": "@jupyter-widgets/controls",
            "_model_module_version": "1.5.0",
            "_model_name": "HTMLModel",
            "_view_count": null,
            "_view_module": "@jupyter-widgets/controls",
            "_view_module_version": "1.5.0",
            "_view_name": "HTMLView",
            "description": "",
            "description_tooltip": null,
            "layout": "IPY_MODEL_bae845adff0548bfb5971a02a82b9b25",
            "placeholder": "​",
            "style": "IPY_MODEL_188e568d0876425a83a445c4ce2a7e9e",
            "value": "vocab.txt: 100%"
          }
        },
        "5bab16b7678b456591e38622e2017503": {
          "model_module": "@jupyter-widgets/controls",
          "model_name": "FloatProgressModel",
          "model_module_version": "1.5.0",
          "state": {
            "_dom_classes": [],
            "_model_module": "@jupyter-widgets/controls",
            "_model_module_version": "1.5.0",
            "_model_name": "FloatProgressModel",
            "_view_count": null,
            "_view_module": "@jupyter-widgets/controls",
            "_view_module_version": "1.5.0",
            "_view_name": "ProgressView",
            "bar_style": "success",
            "description": "",
            "description_tooltip": null,
            "layout": "IPY_MODEL_60be436d7507455bad57411607cb610d",
            "max": 231508,
            "min": 0,
            "orientation": "horizontal",
            "style": "IPY_MODEL_cc6736331b364601b31162a1d74c08a0",
            "value": 231508
          }
        },
        "000f1ec064c24457a5269fbfb31a37f5": {
          "model_module": "@jupyter-widgets/controls",
          "model_name": "HTMLModel",
          "model_module_version": "1.5.0",
          "state": {
            "_dom_classes": [],
            "_model_module": "@jupyter-widgets/controls",
            "_model_module_version": "1.5.0",
            "_model_name": "HTMLModel",
            "_view_count": null,
            "_view_module": "@jupyter-widgets/controls",
            "_view_module_version": "1.5.0",
            "_view_name": "HTMLView",
            "description": "",
            "description_tooltip": null,
            "layout": "IPY_MODEL_455c68f4a0a94e72be489dc920db797f",
            "placeholder": "​",
            "style": "IPY_MODEL_5f97cb4acbd541d4bd8b6fcf78bf4576",
            "value": " 232k/232k [00:00&lt;00:00, 2.00MB/s]"
          }
        },
        "1bd2ef3bdd1d47118f1baff41dac6fcd": {
          "model_module": "@jupyter-widgets/base",
          "model_name": "LayoutModel",
          "model_module_version": "1.2.0",
          "state": {
            "_model_module": "@jupyter-widgets/base",
            "_model_module_version": "1.2.0",
            "_model_name": "LayoutModel",
            "_view_count": null,
            "_view_module": "@jupyter-widgets/base",
            "_view_module_version": "1.2.0",
            "_view_name": "LayoutView",
            "align_content": null,
            "align_items": null,
            "align_self": null,
            "border": null,
            "bottom": null,
            "display": null,
            "flex": null,
            "flex_flow": null,
            "grid_area": null,
            "grid_auto_columns": null,
            "grid_auto_flow": null,
            "grid_auto_rows": null,
            "grid_column": null,
            "grid_gap": null,
            "grid_row": null,
            "grid_template_areas": null,
            "grid_template_columns": null,
            "grid_template_rows": null,
            "height": null,
            "justify_content": null,
            "justify_items": null,
            "left": null,
            "margin": null,
            "max_height": null,
            "max_width": null,
            "min_height": null,
            "min_width": null,
            "object_fit": null,
            "object_position": null,
            "order": null,
            "overflow": null,
            "overflow_x": null,
            "overflow_y": null,
            "padding": null,
            "right": null,
            "top": null,
            "visibility": null,
            "width": null
          }
        },
        "bae845adff0548bfb5971a02a82b9b25": {
          "model_module": "@jupyter-widgets/base",
          "model_name": "LayoutModel",
          "model_module_version": "1.2.0",
          "state": {
            "_model_module": "@jupyter-widgets/base",
            "_model_module_version": "1.2.0",
            "_model_name": "LayoutModel",
            "_view_count": null,
            "_view_module": "@jupyter-widgets/base",
            "_view_module_version": "1.2.0",
            "_view_name": "LayoutView",
            "align_content": null,
            "align_items": null,
            "align_self": null,
            "border": null,
            "bottom": null,
            "display": null,
            "flex": null,
            "flex_flow": null,
            "grid_area": null,
            "grid_auto_columns": null,
            "grid_auto_flow": null,
            "grid_auto_rows": null,
            "grid_column": null,
            "grid_gap": null,
            "grid_row": null,
            "grid_template_areas": null,
            "grid_template_columns": null,
            "grid_template_rows": null,
            "height": null,
            "justify_content": null,
            "justify_items": null,
            "left": null,
            "margin": null,
            "max_height": null,
            "max_width": null,
            "min_height": null,
            "min_width": null,
            "object_fit": null,
            "object_position": null,
            "order": null,
            "overflow": null,
            "overflow_x": null,
            "overflow_y": null,
            "padding": null,
            "right": null,
            "top": null,
            "visibility": null,
            "width": null
          }
        },
        "188e568d0876425a83a445c4ce2a7e9e": {
          "model_module": "@jupyter-widgets/controls",
          "model_name": "DescriptionStyleModel",
          "model_module_version": "1.5.0",
          "state": {
            "_model_module": "@jupyter-widgets/controls",
            "_model_module_version": "1.5.0",
            "_model_name": "DescriptionStyleModel",
            "_view_count": null,
            "_view_module": "@jupyter-widgets/base",
            "_view_module_version": "1.2.0",
            "_view_name": "StyleView",
            "description_width": ""
          }
        },
        "60be436d7507455bad57411607cb610d": {
          "model_module": "@jupyter-widgets/base",
          "model_name": "LayoutModel",
          "model_module_version": "1.2.0",
          "state": {
            "_model_module": "@jupyter-widgets/base",
            "_model_module_version": "1.2.0",
            "_model_name": "LayoutModel",
            "_view_count": null,
            "_view_module": "@jupyter-widgets/base",
            "_view_module_version": "1.2.0",
            "_view_name": "LayoutView",
            "align_content": null,
            "align_items": null,
            "align_self": null,
            "border": null,
            "bottom": null,
            "display": null,
            "flex": null,
            "flex_flow": null,
            "grid_area": null,
            "grid_auto_columns": null,
            "grid_auto_flow": null,
            "grid_auto_rows": null,
            "grid_column": null,
            "grid_gap": null,
            "grid_row": null,
            "grid_template_areas": null,
            "grid_template_columns": null,
            "grid_template_rows": null,
            "height": null,
            "justify_content": null,
            "justify_items": null,
            "left": null,
            "margin": null,
            "max_height": null,
            "max_width": null,
            "min_height": null,
            "min_width": null,
            "object_fit": null,
            "object_position": null,
            "order": null,
            "overflow": null,
            "overflow_x": null,
            "overflow_y": null,
            "padding": null,
            "right": null,
            "top": null,
            "visibility": null,
            "width": null
          }
        },
        "cc6736331b364601b31162a1d74c08a0": {
          "model_module": "@jupyter-widgets/controls",
          "model_name": "ProgressStyleModel",
          "model_module_version": "1.5.0",
          "state": {
            "_model_module": "@jupyter-widgets/controls",
            "_model_module_version": "1.5.0",
            "_model_name": "ProgressStyleModel",
            "_view_count": null,
            "_view_module": "@jupyter-widgets/base",
            "_view_module_version": "1.2.0",
            "_view_name": "StyleView",
            "bar_color": null,
            "description_width": ""
          }
        },
        "455c68f4a0a94e72be489dc920db797f": {
          "model_module": "@jupyter-widgets/base",
          "model_name": "LayoutModel",
          "model_module_version": "1.2.0",
          "state": {
            "_model_module": "@jupyter-widgets/base",
            "_model_module_version": "1.2.0",
            "_model_name": "LayoutModel",
            "_view_count": null,
            "_view_module": "@jupyter-widgets/base",
            "_view_module_version": "1.2.0",
            "_view_name": "LayoutView",
            "align_content": null,
            "align_items": null,
            "align_self": null,
            "border": null,
            "bottom": null,
            "display": null,
            "flex": null,
            "flex_flow": null,
            "grid_area": null,
            "grid_auto_columns": null,
            "grid_auto_flow": null,
            "grid_auto_rows": null,
            "grid_column": null,
            "grid_gap": null,
            "grid_row": null,
            "grid_template_areas": null,
            "grid_template_columns": null,
            "grid_template_rows": null,
            "height": null,
            "justify_content": null,
            "justify_items": null,
            "left": null,
            "margin": null,
            "max_height": null,
            "max_width": null,
            "min_height": null,
            "min_width": null,
            "object_fit": null,
            "object_position": null,
            "order": null,
            "overflow": null,
            "overflow_x": null,
            "overflow_y": null,
            "padding": null,
            "right": null,
            "top": null,
            "visibility": null,
            "width": null
          }
        },
        "5f97cb4acbd541d4bd8b6fcf78bf4576": {
          "model_module": "@jupyter-widgets/controls",
          "model_name": "DescriptionStyleModel",
          "model_module_version": "1.5.0",
          "state": {
            "_model_module": "@jupyter-widgets/controls",
            "_model_module_version": "1.5.0",
            "_model_name": "DescriptionStyleModel",
            "_view_count": null,
            "_view_module": "@jupyter-widgets/base",
            "_view_module_version": "1.2.0",
            "_view_name": "StyleView",
            "description_width": ""
          }
        },
        "2160b697cfc34422ac897f1885a8d359": {
          "model_module": "@jupyter-widgets/controls",
          "model_name": "HBoxModel",
          "model_module_version": "1.5.0",
          "state": {
            "_dom_classes": [],
            "_model_module": "@jupyter-widgets/controls",
            "_model_module_version": "1.5.0",
            "_model_name": "HBoxModel",
            "_view_count": null,
            "_view_module": "@jupyter-widgets/controls",
            "_view_module_version": "1.5.0",
            "_view_name": "HBoxView",
            "box_style": "",
            "children": [
              "IPY_MODEL_9bcf1b21962a44eabfde3a26ebd4aaa5",
              "IPY_MODEL_d76dc508c2064685993c7b37504fc9ed",
              "IPY_MODEL_559b3ad373cf447e95badbc699f1e609"
            ],
            "layout": "IPY_MODEL_e2cbde526a1e4dc3bace05011a633bb8"
          }
        },
        "9bcf1b21962a44eabfde3a26ebd4aaa5": {
          "model_module": "@jupyter-widgets/controls",
          "model_name": "HTMLModel",
          "model_module_version": "1.5.0",
          "state": {
            "_dom_classes": [],
            "_model_module": "@jupyter-widgets/controls",
            "_model_module_version": "1.5.0",
            "_model_name": "HTMLModel",
            "_view_count": null,
            "_view_module": "@jupyter-widgets/controls",
            "_view_module_version": "1.5.0",
            "_view_name": "HTMLView",
            "description": "",
            "description_tooltip": null,
            "layout": "IPY_MODEL_8b676c0b875845b48a08074f01f8f02a",
            "placeholder": "​",
            "style": "IPY_MODEL_400ebc1f7ad4477ea7ea07b26b4f90ae",
            "value": "tokenizer.json: 100%"
          }
        },
        "d76dc508c2064685993c7b37504fc9ed": {
          "model_module": "@jupyter-widgets/controls",
          "model_name": "FloatProgressModel",
          "model_module_version": "1.5.0",
          "state": {
            "_dom_classes": [],
            "_model_module": "@jupyter-widgets/controls",
            "_model_module_version": "1.5.0",
            "_model_name": "FloatProgressModel",
            "_view_count": null,
            "_view_module": "@jupyter-widgets/controls",
            "_view_module_version": "1.5.0",
            "_view_name": "ProgressView",
            "bar_style": "success",
            "description": "",
            "description_tooltip": null,
            "layout": "IPY_MODEL_d7f529f7db7d403e8bfbc77c66c85497",
            "max": 466062,
            "min": 0,
            "orientation": "horizontal",
            "style": "IPY_MODEL_239e92ee80f844ad9cd352b0e8b97064",
            "value": 466062
          }
        },
        "559b3ad373cf447e95badbc699f1e609": {
          "model_module": "@jupyter-widgets/controls",
          "model_name": "HTMLModel",
          "model_module_version": "1.5.0",
          "state": {
            "_dom_classes": [],
            "_model_module": "@jupyter-widgets/controls",
            "_model_module_version": "1.5.0",
            "_model_name": "HTMLModel",
            "_view_count": null,
            "_view_module": "@jupyter-widgets/controls",
            "_view_module_version": "1.5.0",
            "_view_name": "HTMLView",
            "description": "",
            "description_tooltip": null,
            "layout": "IPY_MODEL_6953e260f4184297817d54417e571b2e",
            "placeholder": "​",
            "style": "IPY_MODEL_89c78384d2cd4060a09d834ff58d2fb5",
            "value": " 466k/466k [00:00&lt;00:00, 4.67MB/s]"
          }
        },
        "e2cbde526a1e4dc3bace05011a633bb8": {
          "model_module": "@jupyter-widgets/base",
          "model_name": "LayoutModel",
          "model_module_version": "1.2.0",
          "state": {
            "_model_module": "@jupyter-widgets/base",
            "_model_module_version": "1.2.0",
            "_model_name": "LayoutModel",
            "_view_count": null,
            "_view_module": "@jupyter-widgets/base",
            "_view_module_version": "1.2.0",
            "_view_name": "LayoutView",
            "align_content": null,
            "align_items": null,
            "align_self": null,
            "border": null,
            "bottom": null,
            "display": null,
            "flex": null,
            "flex_flow": null,
            "grid_area": null,
            "grid_auto_columns": null,
            "grid_auto_flow": null,
            "grid_auto_rows": null,
            "grid_column": null,
            "grid_gap": null,
            "grid_row": null,
            "grid_template_areas": null,
            "grid_template_columns": null,
            "grid_template_rows": null,
            "height": null,
            "justify_content": null,
            "justify_items": null,
            "left": null,
            "margin": null,
            "max_height": null,
            "max_width": null,
            "min_height": null,
            "min_width": null,
            "object_fit": null,
            "object_position": null,
            "order": null,
            "overflow": null,
            "overflow_x": null,
            "overflow_y": null,
            "padding": null,
            "right": null,
            "top": null,
            "visibility": null,
            "width": null
          }
        },
        "8b676c0b875845b48a08074f01f8f02a": {
          "model_module": "@jupyter-widgets/base",
          "model_name": "LayoutModel",
          "model_module_version": "1.2.0",
          "state": {
            "_model_module": "@jupyter-widgets/base",
            "_model_module_version": "1.2.0",
            "_model_name": "LayoutModel",
            "_view_count": null,
            "_view_module": "@jupyter-widgets/base",
            "_view_module_version": "1.2.0",
            "_view_name": "LayoutView",
            "align_content": null,
            "align_items": null,
            "align_self": null,
            "border": null,
            "bottom": null,
            "display": null,
            "flex": null,
            "flex_flow": null,
            "grid_area": null,
            "grid_auto_columns": null,
            "grid_auto_flow": null,
            "grid_auto_rows": null,
            "grid_column": null,
            "grid_gap": null,
            "grid_row": null,
            "grid_template_areas": null,
            "grid_template_columns": null,
            "grid_template_rows": null,
            "height": null,
            "justify_content": null,
            "justify_items": null,
            "left": null,
            "margin": null,
            "max_height": null,
            "max_width": null,
            "min_height": null,
            "min_width": null,
            "object_fit": null,
            "object_position": null,
            "order": null,
            "overflow": null,
            "overflow_x": null,
            "overflow_y": null,
            "padding": null,
            "right": null,
            "top": null,
            "visibility": null,
            "width": null
          }
        },
        "400ebc1f7ad4477ea7ea07b26b4f90ae": {
          "model_module": "@jupyter-widgets/controls",
          "model_name": "DescriptionStyleModel",
          "model_module_version": "1.5.0",
          "state": {
            "_model_module": "@jupyter-widgets/controls",
            "_model_module_version": "1.5.0",
            "_model_name": "DescriptionStyleModel",
            "_view_count": null,
            "_view_module": "@jupyter-widgets/base",
            "_view_module_version": "1.2.0",
            "_view_name": "StyleView",
            "description_width": ""
          }
        },
        "d7f529f7db7d403e8bfbc77c66c85497": {
          "model_module": "@jupyter-widgets/base",
          "model_name": "LayoutModel",
          "model_module_version": "1.2.0",
          "state": {
            "_model_module": "@jupyter-widgets/base",
            "_model_module_version": "1.2.0",
            "_model_name": "LayoutModel",
            "_view_count": null,
            "_view_module": "@jupyter-widgets/base",
            "_view_module_version": "1.2.0",
            "_view_name": "LayoutView",
            "align_content": null,
            "align_items": null,
            "align_self": null,
            "border": null,
            "bottom": null,
            "display": null,
            "flex": null,
            "flex_flow": null,
            "grid_area": null,
            "grid_auto_columns": null,
            "grid_auto_flow": null,
            "grid_auto_rows": null,
            "grid_column": null,
            "grid_gap": null,
            "grid_row": null,
            "grid_template_areas": null,
            "grid_template_columns": null,
            "grid_template_rows": null,
            "height": null,
            "justify_content": null,
            "justify_items": null,
            "left": null,
            "margin": null,
            "max_height": null,
            "max_width": null,
            "min_height": null,
            "min_width": null,
            "object_fit": null,
            "object_position": null,
            "order": null,
            "overflow": null,
            "overflow_x": null,
            "overflow_y": null,
            "padding": null,
            "right": null,
            "top": null,
            "visibility": null,
            "width": null
          }
        },
        "239e92ee80f844ad9cd352b0e8b97064": {
          "model_module": "@jupyter-widgets/controls",
          "model_name": "ProgressStyleModel",
          "model_module_version": "1.5.0",
          "state": {
            "_model_module": "@jupyter-widgets/controls",
            "_model_module_version": "1.5.0",
            "_model_name": "ProgressStyleModel",
            "_view_count": null,
            "_view_module": "@jupyter-widgets/base",
            "_view_module_version": "1.2.0",
            "_view_name": "StyleView",
            "bar_color": null,
            "description_width": ""
          }
        },
        "6953e260f4184297817d54417e571b2e": {
          "model_module": "@jupyter-widgets/base",
          "model_name": "LayoutModel",
          "model_module_version": "1.2.0",
          "state": {
            "_model_module": "@jupyter-widgets/base",
            "_model_module_version": "1.2.0",
            "_model_name": "LayoutModel",
            "_view_count": null,
            "_view_module": "@jupyter-widgets/base",
            "_view_module_version": "1.2.0",
            "_view_name": "LayoutView",
            "align_content": null,
            "align_items": null,
            "align_self": null,
            "border": null,
            "bottom": null,
            "display": null,
            "flex": null,
            "flex_flow": null,
            "grid_area": null,
            "grid_auto_columns": null,
            "grid_auto_flow": null,
            "grid_auto_rows": null,
            "grid_column": null,
            "grid_gap": null,
            "grid_row": null,
            "grid_template_areas": null,
            "grid_template_columns": null,
            "grid_template_rows": null,
            "height": null,
            "justify_content": null,
            "justify_items": null,
            "left": null,
            "margin": null,
            "max_height": null,
            "max_width": null,
            "min_height": null,
            "min_width": null,
            "object_fit": null,
            "object_position": null,
            "order": null,
            "overflow": null,
            "overflow_x": null,
            "overflow_y": null,
            "padding": null,
            "right": null,
            "top": null,
            "visibility": null,
            "width": null
          }
        },
        "89c78384d2cd4060a09d834ff58d2fb5": {
          "model_module": "@jupyter-widgets/controls",
          "model_name": "DescriptionStyleModel",
          "model_module_version": "1.5.0",
          "state": {
            "_model_module": "@jupyter-widgets/controls",
            "_model_module_version": "1.5.0",
            "_model_name": "DescriptionStyleModel",
            "_view_count": null,
            "_view_module": "@jupyter-widgets/base",
            "_view_module_version": "1.2.0",
            "_view_name": "StyleView",
            "description_width": ""
          }
        },
        "ecd8b43ee4704294a02a305adf205a5c": {
          "model_module": "@jupyter-widgets/controls",
          "model_name": "HBoxModel",
          "model_module_version": "1.5.0",
          "state": {
            "_dom_classes": [],
            "_model_module": "@jupyter-widgets/controls",
            "_model_module_version": "1.5.0",
            "_model_name": "HBoxModel",
            "_view_count": null,
            "_view_module": "@jupyter-widgets/controls",
            "_view_module_version": "1.5.0",
            "_view_name": "HBoxView",
            "box_style": "",
            "children": [
              "IPY_MODEL_076add9e34ad4f16b88394dccb48c5b3",
              "IPY_MODEL_be7153c22ee34d25b8fcfd8731eae5b0",
              "IPY_MODEL_b93f3ee8c4af4b8681371af463247a99"
            ],
            "layout": "IPY_MODEL_fefd9383085b4e8dab0c21c3113f5043"
          }
        },
        "076add9e34ad4f16b88394dccb48c5b3": {
          "model_module": "@jupyter-widgets/controls",
          "model_name": "HTMLModel",
          "model_module_version": "1.5.0",
          "state": {
            "_dom_classes": [],
            "_model_module": "@jupyter-widgets/controls",
            "_model_module_version": "1.5.0",
            "_model_name": "HTMLModel",
            "_view_count": null,
            "_view_module": "@jupyter-widgets/controls",
            "_view_module_version": "1.5.0",
            "_view_name": "HTMLView",
            "description": "",
            "description_tooltip": null,
            "layout": "IPY_MODEL_eb98367eb62e425eb83bca2699d0f63f",
            "placeholder": "​",
            "style": "IPY_MODEL_a37482413f8b4ad68a3b18bf1f16c5d1",
            "value": "model.safetensors: 100%"
          }
        },
        "be7153c22ee34d25b8fcfd8731eae5b0": {
          "model_module": "@jupyter-widgets/controls",
          "model_name": "FloatProgressModel",
          "model_module_version": "1.5.0",
          "state": {
            "_dom_classes": [],
            "_model_module": "@jupyter-widgets/controls",
            "_model_module_version": "1.5.0",
            "_model_name": "FloatProgressModel",
            "_view_count": null,
            "_view_module": "@jupyter-widgets/controls",
            "_view_module_version": "1.5.0",
            "_view_name": "ProgressView",
            "bar_style": "success",
            "description": "",
            "description_tooltip": null,
            "layout": "IPY_MODEL_16e4785f5f4341a0a0216b2bae53c577",
            "max": 440449768,
            "min": 0,
            "orientation": "horizontal",
            "style": "IPY_MODEL_21d2a5c0c2ca428abcfb39df01803fa8",
            "value": 440449768
          }
        },
        "b93f3ee8c4af4b8681371af463247a99": {
          "model_module": "@jupyter-widgets/controls",
          "model_name": "HTMLModel",
          "model_module_version": "1.5.0",
          "state": {
            "_dom_classes": [],
            "_model_module": "@jupyter-widgets/controls",
            "_model_module_version": "1.5.0",
            "_model_name": "HTMLModel",
            "_view_count": null,
            "_view_module": "@jupyter-widgets/controls",
            "_view_module_version": "1.5.0",
            "_view_name": "HTMLView",
            "description": "",
            "description_tooltip": null,
            "layout": "IPY_MODEL_8225111f05e0449c974155794bb41db7",
            "placeholder": "​",
            "style": "IPY_MODEL_9bd60e15f903440da8d3018f13fe3b35",
            "value": " 440M/440M [00:02&lt;00:00, 178MB/s]"
          }
        },
        "fefd9383085b4e8dab0c21c3113f5043": {
          "model_module": "@jupyter-widgets/base",
          "model_name": "LayoutModel",
          "model_module_version": "1.2.0",
          "state": {
            "_model_module": "@jupyter-widgets/base",
            "_model_module_version": "1.2.0",
            "_model_name": "LayoutModel",
            "_view_count": null,
            "_view_module": "@jupyter-widgets/base",
            "_view_module_version": "1.2.0",
            "_view_name": "LayoutView",
            "align_content": null,
            "align_items": null,
            "align_self": null,
            "border": null,
            "bottom": null,
            "display": null,
            "flex": null,
            "flex_flow": null,
            "grid_area": null,
            "grid_auto_columns": null,
            "grid_auto_flow": null,
            "grid_auto_rows": null,
            "grid_column": null,
            "grid_gap": null,
            "grid_row": null,
            "grid_template_areas": null,
            "grid_template_columns": null,
            "grid_template_rows": null,
            "height": null,
            "justify_content": null,
            "justify_items": null,
            "left": null,
            "margin": null,
            "max_height": null,
            "max_width": null,
            "min_height": null,
            "min_width": null,
            "object_fit": null,
            "object_position": null,
            "order": null,
            "overflow": null,
            "overflow_x": null,
            "overflow_y": null,
            "padding": null,
            "right": null,
            "top": null,
            "visibility": null,
            "width": null
          }
        },
        "eb98367eb62e425eb83bca2699d0f63f": {
          "model_module": "@jupyter-widgets/base",
          "model_name": "LayoutModel",
          "model_module_version": "1.2.0",
          "state": {
            "_model_module": "@jupyter-widgets/base",
            "_model_module_version": "1.2.0",
            "_model_name": "LayoutModel",
            "_view_count": null,
            "_view_module": "@jupyter-widgets/base",
            "_view_module_version": "1.2.0",
            "_view_name": "LayoutView",
            "align_content": null,
            "align_items": null,
            "align_self": null,
            "border": null,
            "bottom": null,
            "display": null,
            "flex": null,
            "flex_flow": null,
            "grid_area": null,
            "grid_auto_columns": null,
            "grid_auto_flow": null,
            "grid_auto_rows": null,
            "grid_column": null,
            "grid_gap": null,
            "grid_row": null,
            "grid_template_areas": null,
            "grid_template_columns": null,
            "grid_template_rows": null,
            "height": null,
            "justify_content": null,
            "justify_items": null,
            "left": null,
            "margin": null,
            "max_height": null,
            "max_width": null,
            "min_height": null,
            "min_width": null,
            "object_fit": null,
            "object_position": null,
            "order": null,
            "overflow": null,
            "overflow_x": null,
            "overflow_y": null,
            "padding": null,
            "right": null,
            "top": null,
            "visibility": null,
            "width": null
          }
        },
        "a37482413f8b4ad68a3b18bf1f16c5d1": {
          "model_module": "@jupyter-widgets/controls",
          "model_name": "DescriptionStyleModel",
          "model_module_version": "1.5.0",
          "state": {
            "_model_module": "@jupyter-widgets/controls",
            "_model_module_version": "1.5.0",
            "_model_name": "DescriptionStyleModel",
            "_view_count": null,
            "_view_module": "@jupyter-widgets/base",
            "_view_module_version": "1.2.0",
            "_view_name": "StyleView",
            "description_width": ""
          }
        },
        "16e4785f5f4341a0a0216b2bae53c577": {
          "model_module": "@jupyter-widgets/base",
          "model_name": "LayoutModel",
          "model_module_version": "1.2.0",
          "state": {
            "_model_module": "@jupyter-widgets/base",
            "_model_module_version": "1.2.0",
            "_model_name": "LayoutModel",
            "_view_count": null,
            "_view_module": "@jupyter-widgets/base",
            "_view_module_version": "1.2.0",
            "_view_name": "LayoutView",
            "align_content": null,
            "align_items": null,
            "align_self": null,
            "border": null,
            "bottom": null,
            "display": null,
            "flex": null,
            "flex_flow": null,
            "grid_area": null,
            "grid_auto_columns": null,
            "grid_auto_flow": null,
            "grid_auto_rows": null,
            "grid_column": null,
            "grid_gap": null,
            "grid_row": null,
            "grid_template_areas": null,
            "grid_template_columns": null,
            "grid_template_rows": null,
            "height": null,
            "justify_content": null,
            "justify_items": null,
            "left": null,
            "margin": null,
            "max_height": null,
            "max_width": null,
            "min_height": null,
            "min_width": null,
            "object_fit": null,
            "object_position": null,
            "order": null,
            "overflow": null,
            "overflow_x": null,
            "overflow_y": null,
            "padding": null,
            "right": null,
            "top": null,
            "visibility": null,
            "width": null
          }
        },
        "21d2a5c0c2ca428abcfb39df01803fa8": {
          "model_module": "@jupyter-widgets/controls",
          "model_name": "ProgressStyleModel",
          "model_module_version": "1.5.0",
          "state": {
            "_model_module": "@jupyter-widgets/controls",
            "_model_module_version": "1.5.0",
            "_model_name": "ProgressStyleModel",
            "_view_count": null,
            "_view_module": "@jupyter-widgets/base",
            "_view_module_version": "1.2.0",
            "_view_name": "StyleView",
            "bar_color": null,
            "description_width": ""
          }
        },
        "8225111f05e0449c974155794bb41db7": {
          "model_module": "@jupyter-widgets/base",
          "model_name": "LayoutModel",
          "model_module_version": "1.2.0",
          "state": {
            "_model_module": "@jupyter-widgets/base",
            "_model_module_version": "1.2.0",
            "_model_name": "LayoutModel",
            "_view_count": null,
            "_view_module": "@jupyter-widgets/base",
            "_view_module_version": "1.2.0",
            "_view_name": "LayoutView",
            "align_content": null,
            "align_items": null,
            "align_self": null,
            "border": null,
            "bottom": null,
            "display": null,
            "flex": null,
            "flex_flow": null,
            "grid_area": null,
            "grid_auto_columns": null,
            "grid_auto_flow": null,
            "grid_auto_rows": null,
            "grid_column": null,
            "grid_gap": null,
            "grid_row": null,
            "grid_template_areas": null,
            "grid_template_columns": null,
            "grid_template_rows": null,
            "height": null,
            "justify_content": null,
            "justify_items": null,
            "left": null,
            "margin": null,
            "max_height": null,
            "max_width": null,
            "min_height": null,
            "min_width": null,
            "object_fit": null,
            "object_position": null,
            "order": null,
            "overflow": null,
            "overflow_x": null,
            "overflow_y": null,
            "padding": null,
            "right": null,
            "top": null,
            "visibility": null,
            "width": null
          }
        },
        "9bd60e15f903440da8d3018f13fe3b35": {
          "model_module": "@jupyter-widgets/controls",
          "model_name": "DescriptionStyleModel",
          "model_module_version": "1.5.0",
          "state": {
            "_model_module": "@jupyter-widgets/controls",
            "_model_module_version": "1.5.0",
            "_model_name": "DescriptionStyleModel",
            "_view_count": null,
            "_view_module": "@jupyter-widgets/base",
            "_view_module_version": "1.2.0",
            "_view_name": "StyleView",
            "description_width": ""
          }
        }
      }
    }
  },
  "cells": [
    {
      "cell_type": "markdown",
      "source": [
        "#Generating contexualized word embeddings"
      ],
      "metadata": {
        "id": "TGDdJb51z2r4"
      }
    },
    {
      "cell_type": "code",
      "source": [
        "from transformers import AutoModel, AutoTokenizer\n",
        "#Load the tokenizer\n",
        "tokenizer = AutoTokenizer.from_pretrained(\"microsoft/deberta-base\")\n",
        "\n",
        "#Load Language model\n",
        "model = AutoModel.from_pretrained(\"microsoft/deberta-v3-xsmall\")\n",
        "\n",
        "#Tokenize the sentence\n",
        "tokens = tokenizer('Hello world', return_tensors='pt')\n",
        "\n",
        "#Process the tokens\n",
        "output = model(**tokens)[0]"
      ],
      "metadata": {
        "collapsed": true,
        "id": "V8c-82euyPWQ"
      },
      "execution_count": 9,
      "outputs": []
    },
    {
      "cell_type": "code",
      "source": [
        "output.shape"
      ],
      "metadata": {
        "colab": {
          "base_uri": "https://localhost:8080/"
        },
        "id": "uPnf2xR8zmB8",
        "outputId": "85320bc5-1f02-43c0-d4d6-0ba02fa11c95"
      },
      "execution_count": 10,
      "outputs": [
        {
          "output_type": "execute_result",
          "data": {
            "text/plain": [
              "torch.Size([1, 4, 384])"
            ]
          },
          "metadata": {},
          "execution_count": 10
        }
      ]
    },
    {
      "cell_type": "markdown",
      "source": [
        "This means that we have four tokens in embedded in a vector of 384 values. The first value is the number of batches used in the training phase.\n",
        "If we want to speed up the process by running more batches / sentences at one time we can increase the batch."
      ],
      "metadata": {
        "id": "XJ2BTYSaHNf4"
      }
    },
    {
      "cell_type": "code",
      "source": [
        "print(output)"
      ],
      "metadata": {
        "colab": {
          "base_uri": "https://localhost:8080/"
        },
        "id": "4lxfwwA_H0bQ",
        "outputId": "54c97c55-5243-4fe7-8b9c-48100dfa2a5a"
      },
      "execution_count": 7,
      "outputs": [
        {
          "output_type": "stream",
          "name": "stdout",
          "text": [
            "tensor([[[-3.4816,  0.0861, -0.1819,  ..., -0.0612, -0.3911,  0.3017],\n",
            "         [ 0.1898,  0.3208, -0.2315,  ...,  0.3714,  0.2478,  0.8048],\n",
            "         [ 0.2071,  0.5036, -0.0485,  ...,  1.2175, -0.2292,  0.8582],\n",
            "         [-3.4278,  0.0645, -0.1427,  ...,  0.0658, -0.4367,  0.3834]]],\n",
            "       grad_fn=<NativeLayerNormBackward0>)\n"
          ]
        }
      ]
    },
    {
      "cell_type": "code",
      "source": [
        "print(tokens)"
      ],
      "metadata": {
        "colab": {
          "base_uri": "https://localhost:8080/"
        },
        "id": "v0Epx-miH-6j",
        "outputId": "140585b0-f934-4b34-8ab8-f5293ad5d378"
      },
      "execution_count": 11,
      "outputs": [
        {
          "output_type": "stream",
          "name": "stdout",
          "text": [
            "{'input_ids': tensor([[    1, 31414,   232,     2]]), 'token_type_ids': tensor([[0, 0, 0, 0]]), 'attention_mask': tensor([[1, 1, 1, 1]])}\n"
          ]
        }
      ]
    },
    {
      "cell_type": "code",
      "source": [
        "for _ in tokens['input_ids']:\n",
        "  print(tokenizer.decode(_))"
      ],
      "metadata": {
        "colab": {
          "base_uri": "https://localhost:8080/"
        },
        "id": "iatA1XUizpOH",
        "outputId": "7ecbadd7-1e2a-424a-cef5-02edcfb84910"
      },
      "execution_count": 12,
      "outputs": [
        {
          "output_type": "stream",
          "name": "stdout",
          "text": [
            "[CLS]Hello world[SEP]\n"
          ]
        }
      ]
    },
    {
      "cell_type": "markdown",
      "source": [
        "#Text Embedding"
      ],
      "metadata": {
        "id": "4l4kpK-CLiem"
      }
    },
    {
      "cell_type": "code",
      "source": [
        "from sentence_transformers import SentenceTransformer\n",
        "\n",
        "#Load Model\n",
        "model = SentenceTransformer('sentence-transformers/all-mpnet-base-v2')\n",
        "\n",
        "#Convert text to text embeddings\n",
        "vector = model.encode('Hello world')\n",
        "\n",
        "print(type(vector))\n",
        "print(vector.shape)\n",
        "print(vector)"
      ],
      "metadata": {
        "colab": {
          "base_uri": "https://localhost:8080/"
        },
        "collapsed": true,
        "id": "jnTF3Gm0yOju",
        "outputId": "606ee35c-c55a-4ce3-e84c-6c90e6780af4"
      },
      "execution_count": 16,
      "outputs": [
        {
          "output_type": "stream",
          "name": "stdout",
          "text": [
            "<class 'numpy.ndarray'>\n",
            "(768,)\n",
            "[ 2.62497496e-02  1.33955907e-02 -4.53314325e-03 -2.17914507e-02\n",
            "  5.45518696e-02 -4.96646622e-03  6.65558968e-03  3.06263138e-02\n",
            " -5.76279080e-03 -4.56203381e-03 -3.31330928e-03 -4.84962612e-02\n",
            " -1.13640139e-02  3.50774154e-02  9.30946991e-02 -8.66874307e-02\n",
            "  5.10865450e-02  9.88612417e-03 -6.35692701e-02 -8.55018292e-03\n",
            "  7.05439178e-03 -3.86240124e-03  2.47443132e-02  4.28849496e-02\n",
            "  3.50941643e-02 -2.98482180e-02  1.02525717e-02  2.23449674e-02\n",
            "  2.08900124e-02  9.49222594e-03 -3.30444016e-02 -1.22841485e-02\n",
            "  5.35289198e-02  2.54292116e-02  2.02217711e-06 -3.41910273e-02\n",
            "  9.61000845e-03 -1.64845362e-02  5.60950860e-03 -4.25004447e-03\n",
            " -2.28012074e-02  4.03547138e-02  3.05203488e-03  3.13725881e-02\n",
            " -1.08123627e-02 -3.55708264e-02  2.22929195e-02  1.68711902e-03\n",
            "  2.07723165e-03  2.31162757e-02  6.88586896e-03 -6.83093350e-03\n",
            " -4.87613119e-02 -2.70107836e-02  1.54911485e-02  3.73168960e-02\n",
            "  2.72793397e-02  2.64989305e-02 -1.69231603e-03 -2.88223755e-02\n",
            "  2.56629474e-02 -4.66163270e-03 -2.70640552e-02 -6.09546993e-03\n",
            "  1.81667339e-02  4.13882770e-02 -3.70311476e-02  5.54032903e-03\n",
            "  1.47259170e-02  6.87893406e-02  2.36484483e-02 -2.46844981e-02\n",
            "  1.02945520e-02  8.59181136e-02  8.08092486e-03 -8.04877579e-02\n",
            " -3.58358733e-02  7.39985406e-02  1.42715583e-02  2.01424565e-02\n",
            " -1.49211613e-02  2.84524541e-02  2.44245306e-03  5.62899467e-03\n",
            " -3.74397449e-02  8.27688947e-02  1.30428663e-02 -2.15966813e-02\n",
            "  9.58256517e-03 -5.75335836e-03 -3.63349877e-02 -1.55773712e-03\n",
            "  1.27764430e-03  2.24882718e-02  1.46637176e-04 -3.70681398e-02\n",
            "  5.93732391e-03  1.48294978e-02  2.46303342e-02 -9.74008217e-02\n",
            "  2.00256836e-02  4.41554189e-02  1.79743096e-02  4.34879102e-02\n",
            " -3.15324916e-03  4.37949598e-02  1.06993103e-02 -9.92321447e-02\n",
            "  5.01760747e-03  2.87886523e-03 -2.83018984e-02  4.10156744e-03\n",
            "  4.66199853e-02  1.95327401e-03 -5.54155409e-02 -2.79677100e-02\n",
            "  1.23649770e-02  3.33715528e-02  2.88455151e-02  1.36993462e-02\n",
            "  7.41837686e-03 -1.08768372e-02  1.00570889e-02  1.44832777e-02\n",
            "  4.38699648e-02 -1.98576078e-02 -5.08849174e-02  3.38829160e-02\n",
            " -2.17587184e-02 -7.01804906e-02 -1.95556059e-02  1.05305426e-02\n",
            "  2.22206283e-02  3.38698290e-02  2.78868135e-02  4.43024337e-02\n",
            " -3.16696800e-02  2.38761306e-02  3.17284204e-02 -1.20061275e-03\n",
            " -4.04757038e-02  1.87932365e-02  7.72000570e-03 -1.31946132e-02\n",
            "  5.70645509e-03 -1.35246767e-02  5.61381355e-02  6.57747462e-02\n",
            "  2.25389581e-02 -2.28491332e-02 -1.39800403e-02 -1.49853509e-02\n",
            " -1.16925754e-01  7.80460984e-03  3.73103358e-02  2.58346871e-02\n",
            "  3.98825668e-02 -2.46552918e-02 -7.07614049e-02 -5.75531535e-02\n",
            " -1.79763678e-02  2.77854819e-02  3.74701023e-02  1.85783524e-02\n",
            "  3.55660655e-02  3.14529352e-02  2.10269988e-02 -1.33699160e-02\n",
            " -8.70454311e-03 -6.77806139e-02  1.13222864e-03  1.04927933e-02\n",
            " -1.48624219e-02  2.80504655e-02  4.50139865e-04 -2.93416735e-02\n",
            " -7.88550824e-02  3.55605558e-02 -6.51660748e-03 -2.29459000e-03\n",
            " -3.99208330e-02 -9.32640433e-02 -2.62660105e-02 -2.38332190e-02\n",
            " -4.45719138e-02  4.15298566e-02  4.65626974e-04  1.06052775e-02\n",
            " -4.30697873e-02  3.62521410e-02  1.19544631e-02  3.86061706e-02\n",
            " -5.75989746e-02  2.57217186e-03  2.36844202e-03  2.59930156e-02\n",
            "  3.42809223e-02 -1.03799887e-02  4.91659269e-02 -7.21847564e-02\n",
            " -3.62768732e-02  4.88623083e-02  2.72757374e-02 -3.33766416e-02\n",
            " -2.31630951e-02  1.50820045e-02  6.00416064e-02 -2.04427354e-02\n",
            "  3.19598988e-02  3.06641869e-02 -8.69864598e-03  2.64434167e-03\n",
            "  1.82677712e-02  4.33071777e-02 -3.46885845e-02 -1.17627215e-02\n",
            "  5.63806389e-03  6.68613911e-02 -1.03100762e-02  8.21337029e-02\n",
            " -1.62561238e-02  6.94424729e-04  4.94338050e-02 -1.73100755e-02\n",
            "  5.90508543e-02 -8.81266668e-02  2.37825122e-02  1.63236223e-02\n",
            " -3.35367792e-03  2.34408062e-02 -3.27979922e-02 -1.78445652e-02\n",
            " -7.08487537e-03 -8.53287987e-03  4.01277887e-03 -6.45412132e-03\n",
            "  4.80711572e-02 -5.28292805e-02  5.25176264e-02 -1.23377271e-01\n",
            "  4.19207029e-02  5.36606312e-02  2.75577344e-02 -4.16350700e-02\n",
            "  6.67174608e-02  4.38442007e-02  6.95653216e-05  2.47125775e-02\n",
            " -8.70136544e-04 -2.13062838e-02  8.81457422e-03  7.48224417e-03\n",
            " -7.88962319e-02  6.32268423e-03 -2.17950321e-03 -5.31374738e-02\n",
            " -3.53153571e-02 -2.72906967e-04 -5.50591275e-02 -7.04757422e-02\n",
            "  2.10635327e-02 -2.37382688e-02  1.34951547e-02  3.28117460e-02\n",
            "  3.49521488e-02  1.18360063e-02 -7.46916281e-03 -8.20020735e-02\n",
            " -2.74185166e-02 -4.51465463e-03  2.16923859e-02  2.47377828e-02\n",
            "  3.47253270e-02 -1.90671477e-02 -2.30450965e-02 -1.16515150e-02\n",
            "  5.89145571e-02  1.04214866e-02 -9.95437731e-04  2.96745431e-02\n",
            "  2.57838238e-02  1.49734812e-02 -3.11786607e-02  1.03497468e-02\n",
            "  1.98984165e-02  4.43564057e-02  5.43500334e-02 -5.14321215e-02\n",
            "  3.65330651e-02  5.29722590e-03 -6.54721484e-02  2.12215800e-02\n",
            " -4.36462425e-02 -2.59935223e-02  1.24233495e-02 -1.41677419e-02\n",
            " -1.00886170e-02 -6.31850064e-02  1.57956593e-02  1.17892325e-02\n",
            " -1.50525887e-02  4.03677747e-02  2.34275311e-02 -1.16550485e-02\n",
            "  9.29800142e-03 -1.38381114e-02 -9.01379681e-04 -7.61926025e-02\n",
            "  6.51616184e-03  4.41361889e-02  4.53190878e-02 -2.28104275e-02\n",
            "  1.59577541e-02  4.98050228e-02  4.30292636e-03 -2.25870013e-02\n",
            " -3.30142491e-02 -9.51203108e-02  3.49786617e-02 -3.35722305e-02\n",
            "  3.52199301e-02  3.33828330e-02 -7.37040397e-03  8.54228064e-03\n",
            " -5.32434136e-02  8.69879574e-02 -2.48277858e-02  4.80566584e-02\n",
            "  2.68975310e-02  3.82550061e-02  1.77725758e-02  1.92632060e-02\n",
            " -1.44463303e-02 -1.29069993e-02 -6.71454147e-02 -3.93482633e-02\n",
            "  4.93942760e-02 -4.65033129e-02 -9.49099753e-03 -1.83781479e-02\n",
            " -4.56147008e-02 -4.45244275e-02 -4.48370017e-02 -7.83959404e-03\n",
            " -4.27115820e-02 -1.60476547e-02 -1.84479274e-03 -2.75298301e-02\n",
            " -9.40900594e-02 -2.13958789e-02 -2.24597799e-03 -4.15486358e-02\n",
            "  2.13371776e-02 -2.49898229e-02  9.49035399e-03 -5.90740107e-02\n",
            "  1.69436112e-02 -1.10046063e-02 -1.83358823e-03 -3.55802067e-02\n",
            "  9.15957987e-03 -3.71351652e-02  5.47757074e-02  7.62470588e-02\n",
            " -4.24642861e-03 -2.15268973e-02  1.08218230e-02  3.76884826e-02\n",
            " -2.88056340e-02 -8.36863555e-03 -1.67225092e-03  4.81706448e-02\n",
            " -1.54920695e-02  6.90931901e-02 -1.44713046e-02  2.29219049e-02\n",
            " -4.31165397e-02 -1.75331533e-02  9.50533338e-03 -1.07029974e-02\n",
            "  2.86666267e-02 -1.99810062e-02  1.07809436e-02 -4.06640815e-03\n",
            " -1.84677821e-02 -5.31761982e-02 -1.32229328e-02  9.25225858e-03\n",
            "  2.87105213e-03  4.03336845e-02  2.85913423e-02 -8.19123685e-02\n",
            "  1.37260603e-02  4.59068175e-03 -3.64196370e-03  3.09045818e-02\n",
            "  1.65565463e-03  9.05496348e-03 -5.49195483e-02  3.02592460e-02\n",
            " -3.55438627e-02  3.58691998e-02  8.15154910e-02  6.92177005e-03\n",
            "  2.51036584e-02  1.02632549e-02  5.84740527e-02  1.80936195e-02\n",
            " -3.81960324e-03  1.24298725e-02 -3.22086997e-02  1.62024796e-02\n",
            "  9.93161276e-03 -2.89613158e-02 -2.85862982e-02 -2.59575732e-02\n",
            " -3.92319262e-02 -5.24148941e-02 -1.64504070e-02 -8.66538659e-03\n",
            "  2.03866530e-02  2.06680018e-02 -8.19768291e-03  6.04347363e-02\n",
            " -3.50795910e-02  6.68938179e-03  4.37312238e-02  9.93516073e-02\n",
            "  1.56277772e-02  1.20488796e-02 -8.99249874e-03  9.42251459e-03\n",
            "  3.68120521e-02  4.70179915e-02  1.85076501e-02 -1.11376122e-02\n",
            " -5.24674635e-03  9.60911717e-03 -5.00846766e-02 -3.26256156e-02\n",
            " -2.25759787e-03 -8.21912382e-03 -1.95992608e-02 -3.95740103e-03\n",
            " -2.25986931e-02  6.96903840e-02  4.61388240e-03 -2.06906702e-02\n",
            "  1.68310129e-03 -5.96611723e-02  9.72244889e-03 -2.38532405e-02\n",
            " -9.98369604e-03 -5.31822406e-02  5.98519621e-03 -8.08277130e-02\n",
            "  1.45913847e-02  2.43462548e-02  2.26309840e-02 -3.52622159e-02\n",
            "  9.61499289e-02  2.82537080e-02 -2.89134774e-02  2.59480979e-02\n",
            "  4.75233346e-02 -3.47233005e-02 -1.92595068e-02  4.60115820e-02\n",
            "  4.84624431e-02 -4.26455913e-03 -7.45288953e-02  9.60193481e-03\n",
            " -2.45784502e-02 -3.74406576e-02 -5.40453708e-03  7.39086568e-02\n",
            " -3.89902703e-02 -3.72323506e-02 -6.63348809e-02 -2.15708371e-02\n",
            " -1.34326899e-02 -2.51605846e-02  5.52601321e-03  1.43811870e-02\n",
            " -9.46521107e-03 -7.71225616e-02  7.95498490e-02 -3.71969119e-02\n",
            " -2.75062025e-02  4.17073723e-03 -4.18304605e-03  3.04683149e-02\n",
            "  6.77572489e-02  2.93374341e-02 -4.71270084e-02  3.88246998e-02\n",
            "  3.15861516e-02 -2.67401300e-02 -1.30120991e-02  4.24874686e-02\n",
            "  1.79976281e-02  4.02197689e-02 -1.55151663e-02 -2.55869944e-02\n",
            "  2.52626929e-03 -3.84776890e-02  5.11515234e-03 -1.82895418e-02\n",
            "  2.69922018e-02 -3.99045981e-02  3.45778726e-02  2.19263621e-02\n",
            " -3.05304397e-02 -9.27078426e-02  3.04246936e-02  9.68218744e-02\n",
            " -3.88697168e-04 -4.47558332e-03  1.32846506e-02 -3.48610580e-02\n",
            "  2.51738578e-02 -4.63436823e-03  3.12302336e-06  9.19936411e-03\n",
            "  2.06600409e-02  2.11718101e-02  2.50596018e-03 -1.71334334e-02\n",
            "  1.50620537e-02 -4.56324359e-03 -5.62424324e-02 -2.18724236e-02\n",
            "  5.29783480e-02  1.55148876e-03 -4.80728298e-02  7.10320324e-02\n",
            "  4.96217683e-02  3.27338874e-02 -4.32276493e-03  7.82497078e-02\n",
            " -1.84872113e-02  4.80816960e-02 -1.47922328e-02  3.33992243e-02\n",
            "  1.66570209e-02  9.76232216e-02  5.98399574e-03  4.43736743e-03\n",
            " -1.97302420e-02 -3.11072879e-02  2.27349461e-03  4.39245105e-02\n",
            " -4.60186973e-03 -1.13023762e-02 -1.55904097e-02 -7.42216390e-33\n",
            " -2.49794032e-02  2.99127921e-02 -5.30289002e-02 -1.46364542e-02\n",
            " -7.89250135e-02 -2.48658713e-02  1.28542045e-02  1.11492155e-02\n",
            " -3.73216458e-02  3.24797034e-02 -3.91105674e-02  6.52841292e-03\n",
            "  2.64384765e-02  6.14208356e-03 -1.86559409e-02  3.40971327e-03\n",
            "  3.81293893e-02  2.42241640e-02 -2.95955576e-02  2.04488356e-02\n",
            "  3.49312974e-03  9.55074839e-03  6.40823469e-02  1.49809951e-02\n",
            "  8.84859040e-02 -2.10824180e-02 -4.01696302e-02 -4.40686494e-02\n",
            "  4.37960550e-02 -2.25868411e-02 -5.57878949e-02 -1.75538717e-03\n",
            " -8.29896983e-03  4.67541665e-02 -4.98650409e-03  5.21767773e-02\n",
            " -1.51116950e-02 -1.26756635e-02  3.61688398e-02 -1.15188072e-02\n",
            " -6.84316177e-03  4.89744321e-02 -2.85411458e-02 -4.78571802e-02\n",
            "  1.36078019e-02  2.26742644e-02 -1.37310196e-02  1.02783749e-02\n",
            "  2.09002178e-02 -9.63364169e-03 -5.32993898e-02 -3.61589082e-02\n",
            " -8.14295560e-03 -4.95012142e-02 -9.54939350e-02 -1.21991355e-02\n",
            " -8.74384865e-03 -5.23867691e-03  6.48622727e-03  1.45376502e-02\n",
            "  7.76150972e-02 -4.12056297e-02 -4.28150147e-02  2.35144831e-02\n",
            "  3.29235792e-02  6.10974021e-02  1.18549377e-01  6.07567001e-03\n",
            " -3.11013199e-02 -7.65524954e-02 -3.04324813e-02 -1.44611867e-02\n",
            " -5.45216426e-02  3.34890336e-02 -3.24219353e-02 -2.49983259e-02\n",
            " -6.52054623e-02 -2.15369817e-02 -1.78652145e-02 -2.21928302e-02\n",
            " -1.51622472e-02  2.34849937e-03 -1.19776735e-02  5.84644265e-03\n",
            "  1.60011929e-02  3.54547352e-02 -1.57742016e-02  2.86007151e-02\n",
            " -4.16624211e-02  1.17359040e-02 -1.68064889e-02 -4.30734120e-02\n",
            "  1.78392213e-02 -3.77090052e-02 -3.67521681e-02 -3.38923559e-02\n",
            "  3.93723063e-02 -2.42405497e-02  1.21492045e-02 -1.63540225e-02\n",
            "  1.21118892e-02 -5.70213003e-03 -4.87001725e-02  2.49313507e-02\n",
            " -5.00460993e-03  6.18997253e-02 -3.40737514e-02  4.01984761e-03\n",
            " -5.24218082e-02 -2.35593449e-02  8.22218135e-03 -1.48357649e-04\n",
            "  2.12523248e-02  1.96568146e-02 -3.04158255e-02  2.18590591e-02\n",
            "  2.21534539e-02  4.48983349e-03 -4.51374091e-02 -1.89233348e-02\n",
            "  2.92339344e-02 -2.61099096e-02 -4.77749668e-02  2.39599012e-02\n",
            " -3.18275020e-02 -1.24036232e-02 -2.47069448e-02  4.30944823e-02\n",
            "  3.40328552e-02  6.46172604e-03  1.72986947e-02 -3.29163112e-02\n",
            "  2.58966537e-07 -8.84883385e-03 -3.63073424e-02 -1.73811540e-02\n",
            "  8.19883570e-02  2.19835388e-03  2.90417504e-02 -1.80669259e-02\n",
            "  8.86254087e-02  2.42361277e-02  2.36133039e-02 -1.31045152e-02\n",
            " -2.19068211e-02  1.15573229e-02 -8.91206861e-02 -6.38024360e-02\n",
            " -9.55568627e-03 -5.43705374e-02 -1.18225746e-01 -9.21181124e-03\n",
            " -3.69607587e-03 -2.87697725e-02  1.87657624e-02  5.11754013e-04\n",
            "  2.45600846e-03  1.56071316e-02 -7.23077916e-03  2.80106515e-02\n",
            " -3.65717635e-02  1.70415230e-02  9.62629262e-03 -4.82709929e-02\n",
            " -6.17021956e-02  1.68396328e-02 -3.68994772e-02  1.74059197e-02\n",
            " -2.12021153e-02  3.65191586e-02  3.24847475e-02  1.51660191e-02\n",
            "  8.81039351e-02 -1.64701827e-02  1.41586401e-02 -2.65972149e-02\n",
            " -3.82448994e-02  2.21500173e-02  1.81602798e-02  1.64998863e-02\n",
            "  1.00875599e-03 -6.77673817e-02 -2.97932047e-02  3.68881389e-03\n",
            " -2.12177802e-02  1.49496235e-02  9.26230848e-03 -2.48201415e-02\n",
            "  1.19676245e-02  6.19069450e-02  1.97807997e-02  1.34801893e-02\n",
            " -2.25955565e-02 -1.23109659e-02 -6.70060515e-02  1.27555067e-02\n",
            "  3.32273506e-02 -2.49800421e-02 -7.90015401e-05 -3.12572881e-03\n",
            "  1.15915429e-34 -4.75034071e-03  3.32459547e-02  3.27794477e-02\n",
            "  4.58135493e-02 -2.86267325e-02 -3.78416711e-03 -5.82716987e-02\n",
            " -6.22482412e-03  3.55340429e-02 -3.07969023e-02 -1.05514396e-02]\n"
          ]
        }
      ]
    },
    {
      "cell_type": "markdown",
      "source": [
        "#Pretrained word Embeddings"
      ],
      "metadata": {
        "id": "rG5vN7VzNEW4"
      }
    },
    {
      "cell_type": "code",
      "source": [
        "!pip install gensim"
      ],
      "metadata": {
        "colab": {
          "base_uri": "https://localhost:8080/"
        },
        "collapsed": true,
        "id": "FuF9mJO-N1F8",
        "outputId": "9d8f5681-f694-4325-da95-8ad54eddbce3"
      },
      "execution_count": 18,
      "outputs": [
        {
          "output_type": "stream",
          "name": "stdout",
          "text": [
            "Collecting gensim\n",
            "  Downloading gensim-4.3.3-cp311-cp311-manylinux_2_17_x86_64.manylinux2014_x86_64.whl.metadata (8.1 kB)\n",
            "Collecting numpy<2.0,>=1.18.5 (from gensim)\n",
            "  Downloading numpy-1.26.4-cp311-cp311-manylinux_2_17_x86_64.manylinux2014_x86_64.whl.metadata (61 kB)\n",
            "\u001b[2K     \u001b[90m━━━━━━━━━━━━━━━━━━━━━━━━━━━━━━━━━━━━━━━━\u001b[0m \u001b[32m61.0/61.0 kB\u001b[0m \u001b[31m2.1 MB/s\u001b[0m eta \u001b[36m0:00:00\u001b[0m\n",
            "\u001b[?25hCollecting scipy<1.14.0,>=1.7.0 (from gensim)\n",
            "  Downloading scipy-1.13.1-cp311-cp311-manylinux_2_17_x86_64.manylinux2014_x86_64.whl.metadata (60 kB)\n",
            "\u001b[2K     \u001b[90m━━━━━━━━━━━━━━━━━━━━━━━━━━━━━━━━━━━━━━━━\u001b[0m \u001b[32m60.6/60.6 kB\u001b[0m \u001b[31m2.5 MB/s\u001b[0m eta \u001b[36m0:00:00\u001b[0m\n",
            "\u001b[?25hRequirement already satisfied: smart-open>=1.8.1 in /usr/local/lib/python3.11/dist-packages (from gensim) (7.1.0)\n",
            "Requirement already satisfied: wrapt in /usr/local/lib/python3.11/dist-packages (from smart-open>=1.8.1->gensim) (1.17.2)\n",
            "Downloading gensim-4.3.3-cp311-cp311-manylinux_2_17_x86_64.manylinux2014_x86_64.whl (26.7 MB)\n",
            "\u001b[2K   \u001b[90m━━━━━━━━━━━━━━━━━━━━━━━━━━━━━━━━━━━━━━━━\u001b[0m \u001b[32m26.7/26.7 MB\u001b[0m \u001b[31m39.9 MB/s\u001b[0m eta \u001b[36m0:00:00\u001b[0m\n",
            "\u001b[?25hDownloading numpy-1.26.4-cp311-cp311-manylinux_2_17_x86_64.manylinux2014_x86_64.whl (18.3 MB)\n",
            "\u001b[2K   \u001b[90m━━━━━━━━━━━━━━━━━━━━━━━━━━━━━━━━━━━━━━━━\u001b[0m \u001b[32m18.3/18.3 MB\u001b[0m \u001b[31m51.4 MB/s\u001b[0m eta \u001b[36m0:00:00\u001b[0m\n",
            "\u001b[?25hDownloading scipy-1.13.1-cp311-cp311-manylinux_2_17_x86_64.manylinux2014_x86_64.whl (38.6 MB)\n",
            "\u001b[2K   \u001b[90m━━━━━━━━━━━━━━━━━━━━━━━━━━━━━━━━━━━━━━━━\u001b[0m \u001b[32m38.6/38.6 MB\u001b[0m \u001b[31m13.6 MB/s\u001b[0m eta \u001b[36m0:00:00\u001b[0m\n",
            "\u001b[?25hInstalling collected packages: numpy, scipy, gensim\n",
            "  Attempting uninstall: numpy\n",
            "    Found existing installation: numpy 2.0.2\n",
            "    Uninstalling numpy-2.0.2:\n",
            "      Successfully uninstalled numpy-2.0.2\n",
            "  Attempting uninstall: scipy\n",
            "    Found existing installation: scipy 1.14.1\n",
            "    Uninstalling scipy-1.14.1:\n",
            "      Successfully uninstalled scipy-1.14.1\n",
            "Successfully installed gensim-4.3.3 numpy-1.26.4 scipy-1.13.1\n"
          ]
        }
      ]
    },
    {
      "cell_type": "code",
      "source": [
        "!pip install --upgrade --force-reinstall numpy"
      ],
      "metadata": {
        "colab": {
          "base_uri": "https://localhost:8080/"
        },
        "collapsed": true,
        "id": "bK5ByTHBOsWX",
        "outputId": "52f24386-3412-42b0-8635-20fb64088aee"
      },
      "execution_count": 20,
      "outputs": [
        {
          "output_type": "stream",
          "name": "stdout",
          "text": [
            "Collecting numpy\n",
            "  Downloading numpy-2.2.4-cp311-cp311-manylinux_2_17_x86_64.manylinux2014_x86_64.whl.metadata (62 kB)\n",
            "\u001b[2K     \u001b[90m━━━━━━━━━━━━━━━━━━━━━━━━━━━━━━━━━━━━━━━━\u001b[0m \u001b[32m62.0/62.0 kB\u001b[0m \u001b[31m2.5 MB/s\u001b[0m eta \u001b[36m0:00:00\u001b[0m\n",
            "\u001b[?25hDownloading numpy-2.2.4-cp311-cp311-manylinux_2_17_x86_64.manylinux2014_x86_64.whl (16.4 MB)\n",
            "\u001b[2K   \u001b[90m━━━━━━━━━━━━━━━━━━━━━━━━━━━━━━━━━━━━━━━━\u001b[0m \u001b[32m16.4/16.4 MB\u001b[0m \u001b[31m63.1 MB/s\u001b[0m eta \u001b[36m0:00:00\u001b[0m\n",
            "\u001b[?25hInstalling collected packages: numpy\n",
            "  Attempting uninstall: numpy\n",
            "    Found existing installation: numpy 1.26.4\n",
            "    Uninstalling numpy-1.26.4:\n",
            "      Successfully uninstalled numpy-1.26.4\n",
            "\u001b[31mERROR: pip's dependency resolver does not currently take into account all the packages that are installed. This behaviour is the source of the following dependency conflicts.\n",
            "gensim 4.3.3 requires numpy<2.0,>=1.18.5, but you have numpy 2.2.4 which is incompatible.\n",
            "numba 0.60.0 requires numpy<2.1,>=1.22, but you have numpy 2.2.4 which is incompatible.\n",
            "tensorflow 2.18.0 requires numpy<2.1.0,>=1.26.0, but you have numpy 2.2.4 which is incompatible.\u001b[0m\u001b[31m\n",
            "\u001b[0mSuccessfully installed numpy-2.2.4\n"
          ]
        }
      ]
    },
    {
      "cell_type": "code",
      "source": [
        "!pip install --upgrade --force-reinstall gensim"
      ],
      "metadata": {
        "colab": {
          "base_uri": "https://localhost:8080/",
          "height": 810
        },
        "collapsed": true,
        "id": "8Bm1tEwGO51t",
        "outputId": "abdd5b19-11df-47b9-8556-472ba885ca28"
      },
      "execution_count": 2,
      "outputs": [
        {
          "output_type": "stream",
          "name": "stdout",
          "text": [
            "Collecting gensim\n",
            "  Using cached gensim-4.3.3-cp311-cp311-manylinux_2_17_x86_64.manylinux2014_x86_64.whl.metadata (8.1 kB)\n",
            "Collecting numpy<2.0,>=1.18.5 (from gensim)\n",
            "  Using cached numpy-1.26.4-cp311-cp311-manylinux_2_17_x86_64.manylinux2014_x86_64.whl.metadata (61 kB)\n",
            "Collecting scipy<1.14.0,>=1.7.0 (from gensim)\n",
            "  Using cached scipy-1.13.1-cp311-cp311-manylinux_2_17_x86_64.manylinux2014_x86_64.whl.metadata (60 kB)\n",
            "Collecting smart-open>=1.8.1 (from gensim)\n",
            "  Downloading smart_open-7.1.0-py3-none-any.whl.metadata (24 kB)\n",
            "Collecting wrapt (from smart-open>=1.8.1->gensim)\n",
            "  Downloading wrapt-1.17.2-cp311-cp311-manylinux_2_5_x86_64.manylinux1_x86_64.manylinux_2_17_x86_64.manylinux2014_x86_64.whl.metadata (6.4 kB)\n",
            "Using cached gensim-4.3.3-cp311-cp311-manylinux_2_17_x86_64.manylinux2014_x86_64.whl (26.7 MB)\n",
            "Using cached numpy-1.26.4-cp311-cp311-manylinux_2_17_x86_64.manylinux2014_x86_64.whl (18.3 MB)\n",
            "Using cached scipy-1.13.1-cp311-cp311-manylinux_2_17_x86_64.manylinux2014_x86_64.whl (38.6 MB)\n",
            "Downloading smart_open-7.1.0-py3-none-any.whl (61 kB)\n",
            "\u001b[2K   \u001b[90m━━━━━━━━━━━━━━━━━━━━━━━━━━━━━━━━━━━━━━━━\u001b[0m \u001b[32m61.7/61.7 kB\u001b[0m \u001b[31m2.6 MB/s\u001b[0m eta \u001b[36m0:00:00\u001b[0m\n",
            "\u001b[?25hDownloading wrapt-1.17.2-cp311-cp311-manylinux_2_5_x86_64.manylinux1_x86_64.manylinux_2_17_x86_64.manylinux2014_x86_64.whl (83 kB)\n",
            "\u001b[2K   \u001b[90m━━━━━━━━━━━━━━━━━━━━━━━━━━━━━━━━━━━━━━━━\u001b[0m \u001b[32m83.2/83.2 kB\u001b[0m \u001b[31m6.3 MB/s\u001b[0m eta \u001b[36m0:00:00\u001b[0m\n",
            "\u001b[?25hInstalling collected packages: wrapt, numpy, smart-open, scipy, gensim\n",
            "  Attempting uninstall: wrapt\n",
            "    Found existing installation: wrapt 1.17.2\n",
            "    Uninstalling wrapt-1.17.2:\n",
            "      Successfully uninstalled wrapt-1.17.2\n",
            "  Attempting uninstall: numpy\n",
            "    Found existing installation: numpy 2.2.4\n",
            "    Uninstalling numpy-2.2.4:\n",
            "      Successfully uninstalled numpy-2.2.4\n",
            "  Attempting uninstall: smart-open\n",
            "    Found existing installation: smart-open 7.1.0\n",
            "    Uninstalling smart-open-7.1.0:\n",
            "      Successfully uninstalled smart-open-7.1.0\n",
            "  Attempting uninstall: scipy\n",
            "    Found existing installation: scipy 1.13.1\n",
            "    Uninstalling scipy-1.13.1:\n",
            "      Successfully uninstalled scipy-1.13.1\n",
            "  Attempting uninstall: gensim\n",
            "    Found existing installation: gensim 4.3.3\n",
            "    Uninstalling gensim-4.3.3:\n",
            "      Successfully uninstalled gensim-4.3.3\n",
            "Successfully installed gensim-4.3.3 numpy-1.26.4 scipy-1.13.1 smart-open-7.1.0 wrapt-1.17.2\n"
          ]
        },
        {
          "output_type": "display_data",
          "data": {
            "application/vnd.colab-display-data+json": {
              "pip_warning": {
                "packages": [
                  "smart_open",
                  "wrapt"
                ]
              },
              "id": "7eb716b913f4419282db7888b23135bb"
            }
          },
          "metadata": {}
        }
      ]
    },
    {
      "cell_type": "code",
      "source": [
        "import gensim.downloader as api"
      ],
      "metadata": {
        "id": "EIv6-vFROe1B"
      },
      "execution_count": 1,
      "outputs": []
    },
    {
      "cell_type": "code",
      "source": [
        "model = api.load('glove-wiki-gigaword-50')"
      ],
      "metadata": {
        "colab": {
          "base_uri": "https://localhost:8080/"
        },
        "collapsed": true,
        "id": "bK7NGYy2PMYu",
        "outputId": "7ac42cab-1c01-4298-bdb8-9c3a2666c444"
      },
      "execution_count": 2,
      "outputs": [
        {
          "output_type": "stream",
          "name": "stdout",
          "text": [
            "[==================================================] 100.0% 66.0/66.0MB downloaded\n"
          ]
        }
      ]
    },
    {
      "cell_type": "code",
      "source": [
        "model.most_similar([model['cat']],topn=11)"
      ],
      "metadata": {
        "colab": {
          "base_uri": "https://localhost:8080/"
        },
        "id": "Dedsmrvyv3tR",
        "outputId": "5e1b8a4a-48dc-4012-9ac9-5dfdb5d97d42"
      },
      "execution_count": 3,
      "outputs": [
        {
          "output_type": "execute_result",
          "data": {
            "text/plain": [
              "[('cat', 1.0),\n",
              " ('dog', 0.9218004941940308),\n",
              " ('rabbit', 0.8487821221351624),\n",
              " ('monkey', 0.8041081428527832),\n",
              " ('rat', 0.7891963124275208),\n",
              " ('cats', 0.7865270972251892),\n",
              " ('snake', 0.7798910737037659),\n",
              " ('dogs', 0.7795814871788025),\n",
              " ('pet', 0.7792249917984009),\n",
              " ('mouse', 0.7731667757034302),\n",
              " ('bite', 0.7728800177574158)]"
            ]
          },
          "metadata": {},
          "execution_count": 3
        }
      ]
    },
    {
      "cell_type": "markdown",
      "source": [
        "#Dynamic Embeddings"
      ],
      "metadata": {
        "id": "-_oi5QYpQvN4"
      }
    },
    {
      "cell_type": "code",
      "source": [
        "from transformers import AutoTokenizer, AutoModel\n",
        "import torch\n",
        "\n",
        "# 1. Load a pre-trained BERT model and tokenizer\n",
        "model_name = \"bert-base-uncased\"\n",
        "tokenizer = AutoTokenizer.from_pretrained(model_name)\n",
        "model = AutoModel.from_pretrained(model_name)"
      ],
      "metadata": {
        "colab": {
          "base_uri": "https://localhost:8080/",
          "height": 336,
          "referenced_widgets": [
            "6559e76be6b64d669eed2e93909c93e0",
            "6a394de5cc714f009f76905f30e6f5f5",
            "33d8fbdefa5e4ffe913289776f7e6429",
            "d0b3d41f0ce942b09c75b21a1b4ee466",
            "ea6992844c4043849506698d40c03c3a",
            "d990611ba8ef439689688f8b7cdc68af",
            "001fbde8e1464e039a48490ee07b1d9d",
            "78a6679b1e08450797591cefe7b2e6c2",
            "f6a5e8cc6b0b448c8f4b5f1c9f5450bb",
            "28a2b78ab59340289146edc6ad28b866",
            "eb44d024f7e44c05981b7b5be4532369",
            "a1bcca685dc64c8fa146d7f1e4a664b3",
            "e38a6856db7540aea15984aa2e25cd49",
            "41e0421b03794ffc8a0ec8dfc9f6a04d",
            "0815e36a788544d9a9230e78a310ca45",
            "c83587e5901c4680a0ffaaa3df8213b7",
            "d0051bbfa36846b3b6ff0af070d10b8a",
            "455b882fbe844ded891700e49ae5d51e",
            "4a84508d440442319290aeac2e7071fa",
            "0fdf16a69e86439fb1cf47be7946bfa5",
            "7f220e3d1a7c4bb8b19d34ed0f4925d6",
            "760b779a28d64c1fb9e7ee9ca12d1594",
            "eb1cb60c57054f238967d066e694e183",
            "49dd6bc30ed84a7cb037a90877ce2290",
            "5bab16b7678b456591e38622e2017503",
            "000f1ec064c24457a5269fbfb31a37f5",
            "1bd2ef3bdd1d47118f1baff41dac6fcd",
            "bae845adff0548bfb5971a02a82b9b25",
            "188e568d0876425a83a445c4ce2a7e9e",
            "60be436d7507455bad57411607cb610d",
            "cc6736331b364601b31162a1d74c08a0",
            "455c68f4a0a94e72be489dc920db797f",
            "5f97cb4acbd541d4bd8b6fcf78bf4576",
            "2160b697cfc34422ac897f1885a8d359",
            "9bcf1b21962a44eabfde3a26ebd4aaa5",
            "d76dc508c2064685993c7b37504fc9ed",
            "559b3ad373cf447e95badbc699f1e609",
            "e2cbde526a1e4dc3bace05011a633bb8",
            "8b676c0b875845b48a08074f01f8f02a",
            "400ebc1f7ad4477ea7ea07b26b4f90ae",
            "d7f529f7db7d403e8bfbc77c66c85497",
            "239e92ee80f844ad9cd352b0e8b97064",
            "6953e260f4184297817d54417e571b2e",
            "89c78384d2cd4060a09d834ff58d2fb5",
            "ecd8b43ee4704294a02a305adf205a5c",
            "076add9e34ad4f16b88394dccb48c5b3",
            "be7153c22ee34d25b8fcfd8731eae5b0",
            "b93f3ee8c4af4b8681371af463247a99",
            "fefd9383085b4e8dab0c21c3113f5043",
            "eb98367eb62e425eb83bca2699d0f63f",
            "a37482413f8b4ad68a3b18bf1f16c5d1",
            "16e4785f5f4341a0a0216b2bae53c577",
            "21d2a5c0c2ca428abcfb39df01803fa8",
            "8225111f05e0449c974155794bb41db7",
            "9bd60e15f903440da8d3018f13fe3b35"
          ]
        },
        "collapsed": true,
        "id": "yL2opMGTPsp2",
        "outputId": "7c0992db-c77c-4fc4-c842-8736240527df"
      },
      "execution_count": 4,
      "outputs": [
        {
          "output_type": "stream",
          "name": "stderr",
          "text": [
            "/usr/local/lib/python3.11/dist-packages/huggingface_hub/utils/_auth.py:94: UserWarning: \n",
            "The secret `HF_TOKEN` does not exist in your Colab secrets.\n",
            "To authenticate with the Hugging Face Hub, create a token in your settings tab (https://huggingface.co/settings/tokens), set it as secret in your Google Colab and restart your session.\n",
            "You will be able to reuse this secret in all of your notebooks.\n",
            "Please note that authentication is recommended but still optional to access public models or datasets.\n",
            "  warnings.warn(\n"
          ]
        },
        {
          "output_type": "display_data",
          "data": {
            "text/plain": [
              "tokenizer_config.json:   0%|          | 0.00/48.0 [00:00<?, ?B/s]"
            ],
            "application/vnd.jupyter.widget-view+json": {
              "version_major": 2,
              "version_minor": 0,
              "model_id": "6559e76be6b64d669eed2e93909c93e0"
            }
          },
          "metadata": {}
        },
        {
          "output_type": "display_data",
          "data": {
            "text/plain": [
              "config.json:   0%|          | 0.00/570 [00:00<?, ?B/s]"
            ],
            "application/vnd.jupyter.widget-view+json": {
              "version_major": 2,
              "version_minor": 0,
              "model_id": "a1bcca685dc64c8fa146d7f1e4a664b3"
            }
          },
          "metadata": {}
        },
        {
          "output_type": "display_data",
          "data": {
            "text/plain": [
              "vocab.txt:   0%|          | 0.00/232k [00:00<?, ?B/s]"
            ],
            "application/vnd.jupyter.widget-view+json": {
              "version_major": 2,
              "version_minor": 0,
              "model_id": "eb1cb60c57054f238967d066e694e183"
            }
          },
          "metadata": {}
        },
        {
          "output_type": "display_data",
          "data": {
            "text/plain": [
              "tokenizer.json:   0%|          | 0.00/466k [00:00<?, ?B/s]"
            ],
            "application/vnd.jupyter.widget-view+json": {
              "version_major": 2,
              "version_minor": 0,
              "model_id": "2160b697cfc34422ac897f1885a8d359"
            }
          },
          "metadata": {}
        },
        {
          "output_type": "stream",
          "name": "stderr",
          "text": [
            "Xet Storage is enabled for this repo, but the 'hf_xet' package is not installed. Falling back to regular HTTP download. For better performance, install the package with: `pip install huggingface_hub[hf_xet]` or `pip install hf_xet`\n",
            "WARNING:huggingface_hub.file_download:Xet Storage is enabled for this repo, but the 'hf_xet' package is not installed. Falling back to regular HTTP download. For better performance, install the package with: `pip install huggingface_hub[hf_xet]` or `pip install hf_xet`\n"
          ]
        },
        {
          "output_type": "display_data",
          "data": {
            "text/plain": [
              "model.safetensors:   0%|          | 0.00/440M [00:00<?, ?B/s]"
            ],
            "application/vnd.jupyter.widget-view+json": {
              "version_major": 2,
              "version_minor": 0,
              "model_id": "ecd8b43ee4704294a02a305adf205a5c"
            }
          },
          "metadata": {}
        }
      ]
    },
    {
      "cell_type": "code",
      "source": [
        "# 2. Example sentences with the word \"bank\"\n",
        "sentences = [\n",
        "    \"She is swimming in the river bank\",\n",
        "    \"She withdrew 100 euro off of her bank account\"\n",
        "]"
      ],
      "metadata": {
        "id": "x9JLe1ERQ5f8"
      },
      "execution_count": 5,
      "outputs": []
    },
    {
      "cell_type": "code",
      "source": [
        "# 3. Tokenize and convert sentences to model input tensors\n",
        "encoded_input = tokenizer(sentences, padding=True, truncation=True, return_tensors='pt')\n",
        "\n",
        "print(encoded_input)"
      ],
      "metadata": {
        "colab": {
          "base_uri": "https://localhost:8080/"
        },
        "id": "DhR9O5QhRDgW",
        "outputId": "baf59b4e-48c1-4def-bcc2-7238857d5562"
      },
      "execution_count": 6,
      "outputs": [
        {
          "output_type": "stream",
          "name": "stdout",
          "text": [
            "{'input_ids': tensor([[ 101, 2016, 2003, 5742, 1999, 1996, 2314, 2924,  102,    0,    0],\n",
            "        [ 101, 2016, 6780, 2531, 9944, 2125, 1997, 2014, 2924, 4070,  102]]), 'token_type_ids': tensor([[0, 0, 0, 0, 0, 0, 0, 0, 0, 0, 0],\n",
            "        [0, 0, 0, 0, 0, 0, 0, 0, 0, 0, 0]]), 'attention_mask': tensor([[1, 1, 1, 1, 1, 1, 1, 1, 1, 0, 0],\n",
            "        [1, 1, 1, 1, 1, 1, 1, 1, 1, 1, 1]])}\n"
          ]
        }
      ]
    },
    {
      "cell_type": "code",
      "source": [
        "# 4. Run the sentences through BERT\n",
        "# feeding our tokenized input into the BERT model to get its contextual embeddings\n",
        "with torch.no_grad():\n",
        "    outputs = model(**encoded_input)\n",
        "# BERT goes through multiple transformer layers (each with self-attention mechanisms).\n",
        "# The outputs include \"last_hidden_state\" of shape [batch_size, seq_length, hidden_dim]\n",
        "print(outputs)\n",
        "last_hidden_states = outputs.last_hidden_state\n",
        "# This is a tensor of shape [batch_size, sequence_length, hidden_dim], where:\n",
        "# batch_size = number of sentences (in our example, 2)\n",
        "# sequence_length = number of tokens in each sentence after tokenization (padding makes them the same length)\n",
        "# Each position [i, j] in the last_hidden_state is the contextual embedding for the j-th token in the i-th sentence.\n",
        "# Because BERT reads the entire sentence, each token’s vector is influenced by its context, so the embedding for “bank” in “river bank” differs from “bank” in “bank account.”\n",
        "# hidden_dim = the hidden size of the BERT model (for bert-base-uncased, it’s 768 by default)"
      ],
      "metadata": {
        "colab": {
          "base_uri": "https://localhost:8080/"
        },
        "id": "I_58HO3GRKmh",
        "outputId": "392d0e48-82db-438b-98ad-3e0e9cde2cb7"
      },
      "execution_count": 10,
      "outputs": [
        {
          "output_type": "stream",
          "name": "stdout",
          "text": [
            "BaseModelOutputWithPoolingAndCrossAttentions(last_hidden_state=tensor([[[ 0.0079, -0.1184, -0.1200,  ..., -0.3597,  0.1501,  0.3539],\n",
            "         [ 0.2412, -0.8554,  0.1856,  ..., -0.9770,  0.2875, -0.1332],\n",
            "         [ 0.2337, -0.3878,  0.1125,  ..., -0.5350, -0.1055,  0.1853],\n",
            "         ...,\n",
            "         [ 0.6876,  0.0099, -0.4805,  ..., -0.0780, -0.6332, -0.6509],\n",
            "         [-0.1134, -0.2845,  0.1771,  ...,  0.0539,  0.3155, -0.0449],\n",
            "         [-0.2174, -0.2968,  0.2114,  ...,  0.1056,  0.3928, -0.1537]],\n",
            "\n",
            "        [[-0.2659, -0.0949, -0.0534,  ..., -0.2797,  0.0812,  0.5101],\n",
            "         [ 0.0210, -0.9154, -0.2446,  ..., -0.2996,  0.3267, -0.0536],\n",
            "         [-0.9583, -0.1491,  0.3209,  ..., -0.5905, -0.0805,  0.2630],\n",
            "         ...,\n",
            "         [ 0.7711, -0.5809,  0.6585,  ..., -0.2036,  0.2418,  0.0377],\n",
            "         [-0.2100, -0.8931, -0.1297,  ..., -0.2923, -0.1967,  0.4327],\n",
            "         [ 0.7873, -0.1549, -0.2069,  ...,  0.0623, -0.5462, -0.1654]]]), pooler_output=tensor([[-0.9109, -0.5117, -0.8502,  ..., -0.3275, -0.7802,  0.9656],\n",
            "        [-0.9310, -0.5083, -0.5113,  ...,  0.0211, -0.6505,  0.9400]]), hidden_states=None, past_key_values=None, attentions=None, cross_attentions=None)\n"
          ]
        }
      ]
    },
    {
      "cell_type": "code",
      "source": [
        "# 5. Locate the token \"bank\" in each sentence and extract its hidden state\n",
        "for i, sentence in enumerate(sentences):\n",
        "    # Get the tokens for the sentence\n",
        "    tokens = tokenizer.tokenize(tokenizer.decode(encoded_input[\"input_ids\"][i]))\n",
        "    print(f\"Sentence {i}: {sentence}\")\n",
        "    print(f\"Tokens: {tokens}\")\n",
        "\n",
        "    # Find index of the word \"bank\" in the tokens\n",
        "    # (Remember sometimes BERT splits words, e.g. \"bank\" might be \"bank\" or \"ban\", \"##k\" etc.\n",
        "    #  but in this case, \"bank\" should remain whole. You may need a more robust approach\n",
        "    #  if the word is sub-word tokenized.)\n",
        "    token_index = tokens.index(\"bank\")\n",
        "\n",
        "    # Extract the embedding vector for \"bank\"\n",
        "    bank_embedding = last_hidden_states[i, token_index, :]\n",
        "    print(f\"bank embedding (first 5 dims): {bank_embedding[:5]}\\n\")\n"
      ],
      "metadata": {
        "colab": {
          "base_uri": "https://localhost:8080/"
        },
        "id": "sAZRAAmCRgbT",
        "outputId": "50ee1721-910e-4605-e12d-21a29df3c758"
      },
      "execution_count": 11,
      "outputs": [
        {
          "output_type": "stream",
          "name": "stdout",
          "text": [
            "Sentence 0: She is swimming in the river bank\n",
            "Tokens: ['[CLS]', 'she', 'is', 'swimming', 'in', 'the', 'river', 'bank', '[SEP]', '[PAD]', '[PAD]']\n",
            "bank embedding (first 5 dims): tensor([-0.3768, -0.7126, -0.3114, -0.1963, -0.0266])\n",
            "\n",
            "Sentence 1: She withdrew 100 euro off of her bank account\n",
            "Tokens: ['[CLS]', 'she', 'withdrew', '100', 'euro', 'off', 'of', 'her', 'bank', 'account', '[SEP]']\n",
            "bank embedding (first 5 dims): tensor([ 0.7711, -0.5809,  0.6585, -0.1168,  0.5897])\n",
            "\n"
          ]
        }
      ]
    }
  ]
}